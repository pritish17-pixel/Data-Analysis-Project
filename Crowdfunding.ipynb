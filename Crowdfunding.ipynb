{
 "cells": [
  {
   "cell_type": "code",
   "execution_count": 1,
   "id": "a11eff01-57d6-4121-862b-eb67cc6dbc14",
   "metadata": {},
   "outputs": [],
   "source": [
    "import numpy as np\n",
    "import pandas as pd\n",
    "import matplotlib.pyplot as plt\n",
    "%matplotlib inline\n",
    "import seaborn as sns"
   ]
  },
  {
   "cell_type": "code",
   "execution_count": 2,
   "id": "c6e58c06-63c3-4480-8310-135f1dba9f6e",
   "metadata": {},
   "outputs": [
    {
     "name": "stderr",
     "output_type": "stream",
     "text": [
      "C:\\Users\\priti\\AppData\\Local\\Temp\\ipykernel_5464\\3261306882.py:1: DtypeWarning: Columns (20,21,23,24) have mixed types. Specify dtype option on import or set low_memory=False.\n",
      "  crowdfunding=pd.read_csv(\"D:\\ExcelR\\CrowdFunding Project Files\\CrowdFunding\\Crowdfunding_projects.CSV\")\n"
     ]
    }
   ],
   "source": [
    "crowdfunding=pd.read_csv(\"D:\\ExcelR\\CrowdFunding Project Files\\CrowdFunding\\Crowdfunding_projects.CSV\")"
   ]
  },
  {
   "cell_type": "code",
   "execution_count": 3,
   "id": "8e0692d3-a4c4-4d3f-ad94-b7e939973b8a",
   "metadata": {},
   "outputs": [
    {
     "data": {
      "text/html": [
       "<div>\n",
       "<style scoped>\n",
       "    .dataframe tbody tr th:only-of-type {\n",
       "        vertical-align: middle;\n",
       "    }\n",
       "\n",
       "    .dataframe tbody tr th {\n",
       "        vertical-align: top;\n",
       "    }\n",
       "\n",
       "    .dataframe thead th {\n",
       "        text-align: right;\n",
       "    }\n",
       "</style>\n",
       "<table border=\"1\" class=\"dataframe\">\n",
       "  <thead>\n",
       "    <tr style=\"text-align: right;\">\n",
       "      <th></th>\n",
       "      <th>id</th>\n",
       "      <th>state</th>\n",
       "      <th>name</th>\n",
       "      <th>country</th>\n",
       "      <th>creator_id</th>\n",
       "      <th>location_id</th>\n",
       "      <th>category_id</th>\n",
       "      <th>created_at</th>\n",
       "      <th>deadline</th>\n",
       "      <th>updated_at</th>\n",
       "      <th>...</th>\n",
       "      <th>currency</th>\n",
       "      <th>currency_symbol</th>\n",
       "      <th>usd_pledged</th>\n",
       "      <th>static_usd_rate</th>\n",
       "      <th>backers_count</th>\n",
       "      <th>spotlight</th>\n",
       "      <th>staff_pick</th>\n",
       "      <th>blurb</th>\n",
       "      <th>currency_trailing_code</th>\n",
       "      <th>disable_communication</th>\n",
       "    </tr>\n",
       "  </thead>\n",
       "  <tbody>\n",
       "    <tr>\n",
       "      <th>0</th>\n",
       "      <td>24080365</td>\n",
       "      <td>failed</td>\n",
       "      <td>Feature Film: The Wolfes</td>\n",
       "      <td>US</td>\n",
       "      <td>1439247114</td>\n",
       "      <td>2488042.0</td>\n",
       "      <td>293</td>\n",
       "      <td>1485972639</td>\n",
       "      <td>1488571200</td>\n",
       "      <td>1488571201</td>\n",
       "      <td>...</td>\n",
       "      <td>USD</td>\n",
       "      <td>$</td>\n",
       "      <td>0.0</td>\n",
       "      <td>1.0</td>\n",
       "      <td>0</td>\n",
       "      <td>FALSE</td>\n",
       "      <td>FALSE</td>\n",
       "      <td>My film is about a boy who discovers the truth...</td>\n",
       "      <td>TRUE</td>\n",
       "      <td>FALSE</td>\n",
       "    </tr>\n",
       "    <tr>\n",
       "      <th>1</th>\n",
       "      <td>27131878</td>\n",
       "      <td>failed</td>\n",
       "      <td>BarBQ 4REAL</td>\n",
       "      <td>US</td>\n",
       "      <td>680525996</td>\n",
       "      <td>2466256.0</td>\n",
       "      <td>10</td>\n",
       "      <td>1427846948</td>\n",
       "      <td>1430507319</td>\n",
       "      <td>1430507320</td>\n",
       "      <td>...</td>\n",
       "      <td>USD</td>\n",
       "      <td>$</td>\n",
       "      <td>0.0</td>\n",
       "      <td>1.0</td>\n",
       "      <td>0</td>\n",
       "      <td>FALSE</td>\n",
       "      <td>FALSE</td>\n",
       "      <td>#Try our BBQ It's 4REAL</td>\n",
       "      <td>TRUE</td>\n",
       "      <td>FALSE</td>\n",
       "    </tr>\n",
       "    <tr>\n",
       "      <th>2</th>\n",
       "      <td>30525634</td>\n",
       "      <td>failed</td>\n",
       "      <td>Down on the Street</td>\n",
       "      <td>US</td>\n",
       "      <td>222229854</td>\n",
       "      <td>2458410.0</td>\n",
       "      <td>276</td>\n",
       "      <td>1457479696</td>\n",
       "      <td>1460073915</td>\n",
       "      <td>1460073915</td>\n",
       "      <td>...</td>\n",
       "      <td>USD</td>\n",
       "      <td>$</td>\n",
       "      <td>0.0</td>\n",
       "      <td>1.0</td>\n",
       "      <td>0</td>\n",
       "      <td>FALSE</td>\n",
       "      <td>FALSE</td>\n",
       "      <td>Welcome to Down on the Street. A proposed exhi...</td>\n",
       "      <td>TRUE</td>\n",
       "      <td>FALSE</td>\n",
       "    </tr>\n",
       "    <tr>\n",
       "      <th>3</th>\n",
       "      <td>31977817</td>\n",
       "      <td>failed</td>\n",
       "      <td>Descent into Madness-Stream of Conscious Endur...</td>\n",
       "      <td>US</td>\n",
       "      <td>1978657574</td>\n",
       "      <td>2523194.0</td>\n",
       "      <td>48</td>\n",
       "      <td>1343252842</td>\n",
       "      <td>1346342564</td>\n",
       "      <td>1397791317</td>\n",
       "      <td>...</td>\n",
       "      <td>USD</td>\n",
       "      <td>$</td>\n",
       "      <td>0.0</td>\n",
       "      <td>1.0</td>\n",
       "      <td>0</td>\n",
       "      <td>FALSE</td>\n",
       "      <td>FALSE</td>\n",
       "      <td>Endurance writing for 72 hours, watch an autho...</td>\n",
       "      <td>TRUE</td>\n",
       "      <td>FALSE</td>\n",
       "    </tr>\n",
       "    <tr>\n",
       "      <th>4</th>\n",
       "      <td>33517733</td>\n",
       "      <td>failed</td>\n",
       "      <td>Help us add more content and deliver it faster!</td>\n",
       "      <td>US</td>\n",
       "      <td>1016683395</td>\n",
       "      <td>2433227.0</td>\n",
       "      <td>18</td>\n",
       "      <td>1427808214</td>\n",
       "      <td>1428676182</td>\n",
       "      <td>1428676219</td>\n",
       "      <td>...</td>\n",
       "      <td>USD</td>\n",
       "      <td>$</td>\n",
       "      <td>0.0</td>\n",
       "      <td>1.0</td>\n",
       "      <td>0</td>\n",
       "      <td>FALSE</td>\n",
       "      <td>FALSE</td>\n",
       "      <td>We need to upgrade our technology to create a ...</td>\n",
       "      <td>TRUE</td>\n",
       "      <td>FALSE</td>\n",
       "    </tr>\n",
       "  </tbody>\n",
       "</table>\n",
       "<p>5 rows × 25 columns</p>\n",
       "</div>"
      ],
      "text/plain": [
       "         id   state                                               name  \\\n",
       "0  24080365  failed                           Feature Film: The Wolfes   \n",
       "1  27131878  failed                                        BarBQ 4REAL   \n",
       "2  30525634  failed                                 Down on the Street   \n",
       "3  31977817  failed  Descent into Madness-Stream of Conscious Endur...   \n",
       "4  33517733  failed    Help us add more content and deliver it faster!   \n",
       "\n",
       "  country  creator_id  location_id  category_id  created_at    deadline  \\\n",
       "0      US  1439247114    2488042.0          293  1485972639  1488571200   \n",
       "1      US   680525996    2466256.0           10  1427846948  1430507319   \n",
       "2      US   222229854    2458410.0          276  1457479696  1460073915   \n",
       "3      US  1978657574    2523194.0           48  1343252842  1346342564   \n",
       "4      US  1016683395    2433227.0           18  1427808214  1428676182   \n",
       "\n",
       "   updated_at  ...  currency  currency_symbol  usd_pledged  static_usd_rate  \\\n",
       "0  1488571201  ...       USD                $          0.0              1.0   \n",
       "1  1430507320  ...       USD                $          0.0              1.0   \n",
       "2  1460073915  ...       USD                $          0.0              1.0   \n",
       "3  1397791317  ...       USD                $          0.0              1.0   \n",
       "4  1428676219  ...       USD                $          0.0              1.0   \n",
       "\n",
       "   backers_count spotlight staff_pick  \\\n",
       "0              0     FALSE      FALSE   \n",
       "1              0     FALSE      FALSE   \n",
       "2              0     FALSE      FALSE   \n",
       "3              0     FALSE      FALSE   \n",
       "4              0     FALSE      FALSE   \n",
       "\n",
       "                                               blurb  currency_trailing_code  \\\n",
       "0  My film is about a boy who discovers the truth...                    TRUE   \n",
       "1                            #Try our BBQ It's 4REAL                    TRUE   \n",
       "2  Welcome to Down on the Street. A proposed exhi...                    TRUE   \n",
       "3  Endurance writing for 72 hours, watch an autho...                    TRUE   \n",
       "4  We need to upgrade our technology to create a ...                    TRUE   \n",
       "\n",
       "   disable_communication  \n",
       "0                  FALSE  \n",
       "1                  FALSE  \n",
       "2                  FALSE  \n",
       "3                  FALSE  \n",
       "4                  FALSE  \n",
       "\n",
       "[5 rows x 25 columns]"
      ]
     },
     "execution_count": 3,
     "metadata": {},
     "output_type": "execute_result"
    }
   ],
   "source": [
    "crowdfunding.head()"
   ]
  },
  {
   "cell_type": "code",
   "execution_count": 4,
   "id": "6ebcaf22-f03c-4cd8-8aa4-33ee62cc69c5",
   "metadata": {},
   "outputs": [
    {
     "data": {
      "text/plain": [
       "['id',\n",
       " 'state',\n",
       " 'name',\n",
       " 'country',\n",
       " 'creator_id',\n",
       " 'location_id',\n",
       " 'category_id',\n",
       " 'created_at',\n",
       " 'deadline',\n",
       " 'updated_at',\n",
       " 'state_changed_at',\n",
       " 'successful_at',\n",
       " 'launched_at',\n",
       " 'goal',\n",
       " 'pledged',\n",
       " 'currency',\n",
       " 'currency_symbol',\n",
       " 'usd_pledged',\n",
       " 'static_usd_rate',\n",
       " 'backers_count',\n",
       " 'spotlight',\n",
       " 'staff_pick',\n",
       " 'blurb',\n",
       " 'currency_trailing_code',\n",
       " 'disable_communication']"
      ]
     },
     "execution_count": 4,
     "metadata": {},
     "output_type": "execute_result"
    }
   ],
   "source": [
    "list(crowdfunding.columns)"
   ]
  },
  {
   "cell_type": "code",
   "execution_count": 5,
   "id": "3e40ba98-062b-45fd-bff9-9f60ddc9d391",
   "metadata": {},
   "outputs": [
    {
     "data": {
      "text/plain": [
       "(365892, 25)"
      ]
     },
     "execution_count": 5,
     "metadata": {},
     "output_type": "execute_result"
    }
   ],
   "source": [
    "crowdfunding.shape"
   ]
  },
  {
   "cell_type": "code",
   "execution_count": 6,
   "id": "0a677419-a86c-4249-ad58-f3e9b44d66ae",
   "metadata": {},
   "outputs": [
    {
     "data": {
      "text/plain": [
       "25"
      ]
     },
     "execution_count": 6,
     "metadata": {},
     "output_type": "execute_result"
    }
   ],
   "source": [
    "len(crowdfunding.columns)"
   ]
  },
  {
   "cell_type": "code",
   "execution_count": 7,
   "id": "f99bd504-0a0f-4639-b25a-779c3f7582fb",
   "metadata": {},
   "outputs": [],
   "source": [
    "crowdfunding.columns=crowdfunding.columns.str.replace('[^A-Za-z0-9]+','_',regex=True)"
   ]
  },
  {
   "cell_type": "code",
   "execution_count": 8,
   "id": "0ffadf98-ef60-400b-822a-fb2707fa554a",
   "metadata": {},
   "outputs": [
    {
     "data": {
      "text/plain": [
       "['id',\n",
       " 'state',\n",
       " 'name',\n",
       " 'country',\n",
       " 'creator_id',\n",
       " 'location_id',\n",
       " 'category_id',\n",
       " 'created_at',\n",
       " 'deadline',\n",
       " 'updated_at',\n",
       " 'state_changed_at',\n",
       " 'successful_at',\n",
       " 'launched_at',\n",
       " 'goal',\n",
       " 'pledged',\n",
       " 'currency',\n",
       " 'currency_symbol',\n",
       " 'usd_pledged',\n",
       " 'static_usd_rate',\n",
       " 'backers_count',\n",
       " 'spotlight',\n",
       " 'staff_pick',\n",
       " 'blurb',\n",
       " 'currency_trailing_code',\n",
       " 'disable_communication']"
      ]
     },
     "execution_count": 8,
     "metadata": {},
     "output_type": "execute_result"
    }
   ],
   "source": [
    "list(crowdfunding.columns)"
   ]
  },
  {
   "cell_type": "code",
   "execution_count": 9,
   "id": "8efc245c-ea1b-464e-beee-9c115ad47129",
   "metadata": {},
   "outputs": [],
   "source": [
    "crowdfunding.columns=crowdfunding.columns.str.strip('_')"
   ]
  },
  {
   "cell_type": "code",
   "execution_count": 10,
   "id": "0ade2ebf-2e09-4be2-846e-0e5b6cd229e7",
   "metadata": {},
   "outputs": [
    {
     "data": {
      "text/plain": [
       "['id',\n",
       " 'state',\n",
       " 'name',\n",
       " 'country',\n",
       " 'creator_id',\n",
       " 'location_id',\n",
       " 'category_id',\n",
       " 'created_at',\n",
       " 'deadline',\n",
       " 'updated_at',\n",
       " 'state_changed_at',\n",
       " 'successful_at',\n",
       " 'launched_at',\n",
       " 'goal',\n",
       " 'pledged',\n",
       " 'currency',\n",
       " 'currency_symbol',\n",
       " 'usd_pledged',\n",
       " 'static_usd_rate',\n",
       " 'backers_count',\n",
       " 'spotlight',\n",
       " 'staff_pick',\n",
       " 'blurb',\n",
       " 'currency_trailing_code',\n",
       " 'disable_communication']"
      ]
     },
     "execution_count": 10,
     "metadata": {},
     "output_type": "execute_result"
    }
   ],
   "source": [
    "list(crowdfunding.columns)"
   ]
  },
  {
   "cell_type": "code",
   "execution_count": 11,
   "id": "c76f2bb0-231e-4bf4-853f-e03df98f2ecf",
   "metadata": {},
   "outputs": [
    {
     "data": {
      "text/html": [
       "<div>\n",
       "<style scoped>\n",
       "    .dataframe tbody tr th:only-of-type {\n",
       "        vertical-align: middle;\n",
       "    }\n",
       "\n",
       "    .dataframe tbody tr th {\n",
       "        vertical-align: top;\n",
       "    }\n",
       "\n",
       "    .dataframe thead th {\n",
       "        text-align: right;\n",
       "    }\n",
       "</style>\n",
       "<table border=\"1\" class=\"dataframe\">\n",
       "  <thead>\n",
       "    <tr style=\"text-align: right;\">\n",
       "      <th></th>\n",
       "      <th>id</th>\n",
       "      <th>state</th>\n",
       "      <th>name</th>\n",
       "      <th>country</th>\n",
       "      <th>creator_id</th>\n",
       "      <th>location_id</th>\n",
       "      <th>category_id</th>\n",
       "      <th>created_at</th>\n",
       "      <th>deadline</th>\n",
       "      <th>updated_at</th>\n",
       "      <th>...</th>\n",
       "      <th>currency</th>\n",
       "      <th>currency_symbol</th>\n",
       "      <th>usd_pledged</th>\n",
       "      <th>static_usd_rate</th>\n",
       "      <th>backers_count</th>\n",
       "      <th>spotlight</th>\n",
       "      <th>staff_pick</th>\n",
       "      <th>blurb</th>\n",
       "      <th>currency_trailing_code</th>\n",
       "      <th>disable_communication</th>\n",
       "    </tr>\n",
       "  </thead>\n",
       "  <tbody>\n",
       "    <tr>\n",
       "      <th>0</th>\n",
       "      <td>24080365</td>\n",
       "      <td>failed</td>\n",
       "      <td>Feature Film: The Wolfes</td>\n",
       "      <td>US</td>\n",
       "      <td>1439247114</td>\n",
       "      <td>2488042.0</td>\n",
       "      <td>293</td>\n",
       "      <td>1485972639</td>\n",
       "      <td>1488571200</td>\n",
       "      <td>1488571201</td>\n",
       "      <td>...</td>\n",
       "      <td>USD</td>\n",
       "      <td>$</td>\n",
       "      <td>0.0</td>\n",
       "      <td>1.0</td>\n",
       "      <td>0</td>\n",
       "      <td>FALSE</td>\n",
       "      <td>FALSE</td>\n",
       "      <td>My film is about a boy who discovers the truth...</td>\n",
       "      <td>TRUE</td>\n",
       "      <td>FALSE</td>\n",
       "    </tr>\n",
       "    <tr>\n",
       "      <th>1</th>\n",
       "      <td>27131878</td>\n",
       "      <td>failed</td>\n",
       "      <td>BarBQ 4REAL</td>\n",
       "      <td>US</td>\n",
       "      <td>680525996</td>\n",
       "      <td>2466256.0</td>\n",
       "      <td>10</td>\n",
       "      <td>1427846948</td>\n",
       "      <td>1430507319</td>\n",
       "      <td>1430507320</td>\n",
       "      <td>...</td>\n",
       "      <td>USD</td>\n",
       "      <td>$</td>\n",
       "      <td>0.0</td>\n",
       "      <td>1.0</td>\n",
       "      <td>0</td>\n",
       "      <td>FALSE</td>\n",
       "      <td>FALSE</td>\n",
       "      <td>#Try our BBQ It's 4REAL</td>\n",
       "      <td>TRUE</td>\n",
       "      <td>FALSE</td>\n",
       "    </tr>\n",
       "    <tr>\n",
       "      <th>2</th>\n",
       "      <td>30525634</td>\n",
       "      <td>failed</td>\n",
       "      <td>Down on the Street</td>\n",
       "      <td>US</td>\n",
       "      <td>222229854</td>\n",
       "      <td>2458410.0</td>\n",
       "      <td>276</td>\n",
       "      <td>1457479696</td>\n",
       "      <td>1460073915</td>\n",
       "      <td>1460073915</td>\n",
       "      <td>...</td>\n",
       "      <td>USD</td>\n",
       "      <td>$</td>\n",
       "      <td>0.0</td>\n",
       "      <td>1.0</td>\n",
       "      <td>0</td>\n",
       "      <td>FALSE</td>\n",
       "      <td>FALSE</td>\n",
       "      <td>Welcome to Down on the Street. A proposed exhi...</td>\n",
       "      <td>TRUE</td>\n",
       "      <td>FALSE</td>\n",
       "    </tr>\n",
       "    <tr>\n",
       "      <th>3</th>\n",
       "      <td>31977817</td>\n",
       "      <td>failed</td>\n",
       "      <td>Descent into Madness-Stream of Conscious Endur...</td>\n",
       "      <td>US</td>\n",
       "      <td>1978657574</td>\n",
       "      <td>2523194.0</td>\n",
       "      <td>48</td>\n",
       "      <td>1343252842</td>\n",
       "      <td>1346342564</td>\n",
       "      <td>1397791317</td>\n",
       "      <td>...</td>\n",
       "      <td>USD</td>\n",
       "      <td>$</td>\n",
       "      <td>0.0</td>\n",
       "      <td>1.0</td>\n",
       "      <td>0</td>\n",
       "      <td>FALSE</td>\n",
       "      <td>FALSE</td>\n",
       "      <td>Endurance writing for 72 hours, watch an autho...</td>\n",
       "      <td>TRUE</td>\n",
       "      <td>FALSE</td>\n",
       "    </tr>\n",
       "    <tr>\n",
       "      <th>4</th>\n",
       "      <td>33517733</td>\n",
       "      <td>failed</td>\n",
       "      <td>Help us add more content and deliver it faster!</td>\n",
       "      <td>US</td>\n",
       "      <td>1016683395</td>\n",
       "      <td>2433227.0</td>\n",
       "      <td>18</td>\n",
       "      <td>1427808214</td>\n",
       "      <td>1428676182</td>\n",
       "      <td>1428676219</td>\n",
       "      <td>...</td>\n",
       "      <td>USD</td>\n",
       "      <td>$</td>\n",
       "      <td>0.0</td>\n",
       "      <td>1.0</td>\n",
       "      <td>0</td>\n",
       "      <td>FALSE</td>\n",
       "      <td>FALSE</td>\n",
       "      <td>We need to upgrade our technology to create a ...</td>\n",
       "      <td>TRUE</td>\n",
       "      <td>FALSE</td>\n",
       "    </tr>\n",
       "  </tbody>\n",
       "</table>\n",
       "<p>5 rows × 25 columns</p>\n",
       "</div>"
      ],
      "text/plain": [
       "         id   state                                               name  \\\n",
       "0  24080365  failed                           Feature Film: The Wolfes   \n",
       "1  27131878  failed                                        BarBQ 4REAL   \n",
       "2  30525634  failed                                 Down on the Street   \n",
       "3  31977817  failed  Descent into Madness-Stream of Conscious Endur...   \n",
       "4  33517733  failed    Help us add more content and deliver it faster!   \n",
       "\n",
       "  country  creator_id  location_id  category_id  created_at    deadline  \\\n",
       "0      US  1439247114    2488042.0          293  1485972639  1488571200   \n",
       "1      US   680525996    2466256.0           10  1427846948  1430507319   \n",
       "2      US   222229854    2458410.0          276  1457479696  1460073915   \n",
       "3      US  1978657574    2523194.0           48  1343252842  1346342564   \n",
       "4      US  1016683395    2433227.0           18  1427808214  1428676182   \n",
       "\n",
       "   updated_at  ...  currency  currency_symbol  usd_pledged  static_usd_rate  \\\n",
       "0  1488571201  ...       USD                $          0.0              1.0   \n",
       "1  1430507320  ...       USD                $          0.0              1.0   \n",
       "2  1460073915  ...       USD                $          0.0              1.0   \n",
       "3  1397791317  ...       USD                $          0.0              1.0   \n",
       "4  1428676219  ...       USD                $          0.0              1.0   \n",
       "\n",
       "   backers_count spotlight staff_pick  \\\n",
       "0              0     FALSE      FALSE   \n",
       "1              0     FALSE      FALSE   \n",
       "2              0     FALSE      FALSE   \n",
       "3              0     FALSE      FALSE   \n",
       "4              0     FALSE      FALSE   \n",
       "\n",
       "                                               blurb  currency_trailing_code  \\\n",
       "0  My film is about a boy who discovers the truth...                    TRUE   \n",
       "1                            #Try our BBQ It's 4REAL                    TRUE   \n",
       "2  Welcome to Down on the Street. A proposed exhi...                    TRUE   \n",
       "3  Endurance writing for 72 hours, watch an autho...                    TRUE   \n",
       "4  We need to upgrade our technology to create a ...                    TRUE   \n",
       "\n",
       "   disable_communication  \n",
       "0                  FALSE  \n",
       "1                  FALSE  \n",
       "2                  FALSE  \n",
       "3                  FALSE  \n",
       "4                  FALSE  \n",
       "\n",
       "[5 rows x 25 columns]"
      ]
     },
     "execution_count": 11,
     "metadata": {},
     "output_type": "execute_result"
    }
   ],
   "source": [
    "crowdfunding.head()"
   ]
  },
  {
   "cell_type": "code",
   "execution_count": 12,
   "id": "c7cb4ae4-7693-40a6-9d60-927be6a45ab6",
   "metadata": {},
   "outputs": [
    {
     "data": {
      "text/plain": [
       "np.int64(139753)"
      ]
     },
     "execution_count": 12,
     "metadata": {},
     "output_type": "execute_result"
    }
   ],
   "source": [
    "crowdfunding.value_counts().sum()"
   ]
  },
  {
   "cell_type": "code",
   "execution_count": 13,
   "id": "85a5023a-0a82-410c-bbf7-3bbaee96e51f",
   "metadata": {},
   "outputs": [
    {
     "name": "stdout",
     "output_type": "stream",
     "text": [
      "<class 'pandas.core.frame.DataFrame'>\n",
      "RangeIndex: 365892 entries, 0 to 365891\n",
      "Data columns (total 25 columns):\n",
      " #   Column                  Non-Null Count   Dtype  \n",
      "---  ------                  --------------   -----  \n",
      " 0   id                      365892 non-null  int64  \n",
      " 1   state                   365892 non-null  object \n",
      " 2   name                    365888 non-null  object \n",
      " 3   country                 365892 non-null  object \n",
      " 4   creator_id              365892 non-null  int64  \n",
      " 5   location_id             364378 non-null  float64\n",
      " 6   category_id             365892 non-null  int64  \n",
      " 7   created_at              365892 non-null  int64  \n",
      " 8   deadline                365892 non-null  int64  \n",
      " 9   updated_at              365892 non-null  int64  \n",
      " 10  state_changed_at        365892 non-null  int64  \n",
      " 11  successful_at           140313 non-null  float64\n",
      " 12  launched_at             365892 non-null  int64  \n",
      " 13  goal                    365892 non-null  float64\n",
      " 14  pledged                 365892 non-null  float64\n",
      " 15  currency                365892 non-null  object \n",
      " 16  currency_symbol         365892 non-null  object \n",
      " 17  usd_pledged             365892 non-null  float64\n",
      " 18  static_usd_rate         365892 non-null  float64\n",
      " 19  backers_count           365892 non-null  int64  \n",
      " 20  spotlight               365892 non-null  object \n",
      " 21  staff_pick              365892 non-null  object \n",
      " 22  blurb                   365863 non-null  object \n",
      " 23  currency_trailing_code  365892 non-null  object \n",
      " 24  disable_communication   365892 non-null  object \n",
      "dtypes: float64(6), int64(9), object(10)\n",
      "memory usage: 69.8+ MB\n"
     ]
    }
   ],
   "source": [
    "crowdfunding.info()"
   ]
  },
  {
   "cell_type": "code",
   "execution_count": 14,
   "id": "d51115f7-5fe6-4d38-857c-678d2fec5a09",
   "metadata": {},
   "outputs": [
    {
     "data": {
      "text/plain": [
       "id                        365892\n",
       "state                     365892\n",
       "name                      365892\n",
       "country                   365892\n",
       "creator_id                365892\n",
       "location_id               365892\n",
       "category_id               365892\n",
       "created_at                365892\n",
       "deadline                  365892\n",
       "updated_at                365892\n",
       "state_changed_at          365892\n",
       "successful_at             365892\n",
       "launched_at               365892\n",
       "goal                      365892\n",
       "pledged                   365892\n",
       "currency                  365892\n",
       "currency_symbol           365892\n",
       "usd_pledged               365892\n",
       "static_usd_rate           365892\n",
       "backers_count             365892\n",
       "spotlight                 365892\n",
       "staff_pick                365892\n",
       "blurb                     365892\n",
       "currency_trailing_code    365892\n",
       "disable_communication     365892\n",
       "dtype: int64"
      ]
     },
     "execution_count": 14,
     "metadata": {},
     "output_type": "execute_result"
    }
   ],
   "source": [
    "crowdfunding.isnull().count()"
   ]
  },
  {
   "cell_type": "code",
   "execution_count": 15,
   "id": "f614a6ba-a743-4a45-b235-a6cd238df614",
   "metadata": {},
   "outputs": [
    {
     "data": {
      "text/plain": [
       "id                             0\n",
       "state                          0\n",
       "name                           4\n",
       "country                        0\n",
       "creator_id                     0\n",
       "location_id                 1514\n",
       "category_id                    0\n",
       "created_at                     0\n",
       "deadline                       0\n",
       "updated_at                     0\n",
       "state_changed_at               0\n",
       "successful_at             225579\n",
       "launched_at                    0\n",
       "goal                           0\n",
       "pledged                        0\n",
       "currency                       0\n",
       "currency_symbol                0\n",
       "usd_pledged                    0\n",
       "static_usd_rate                0\n",
       "backers_count                  0\n",
       "spotlight                      0\n",
       "staff_pick                     0\n",
       "blurb                         29\n",
       "currency_trailing_code         0\n",
       "disable_communication          0\n",
       "dtype: int64"
      ]
     },
     "execution_count": 15,
     "metadata": {},
     "output_type": "execute_result"
    }
   ],
   "source": [
    "crowdfunding.isnull().sum()"
   ]
  },
  {
   "cell_type": "code",
   "execution_count": 16,
   "id": "4663a826-d5c5-47c5-9479-c9adf6bff684",
   "metadata": {},
   "outputs": [
    {
     "data": {
      "text/plain": [
       "np.int64(227126)"
      ]
     },
     "execution_count": 16,
     "metadata": {},
     "output_type": "execute_result"
    }
   ],
   "source": [
    "crowdfunding.isnull().sum().sum()"
   ]
  },
  {
   "cell_type": "code",
   "execution_count": 17,
   "id": "95e80119-9c27-4bf9-8775-d9f81499330f",
   "metadata": {},
   "outputs": [
    {
     "data": {
      "text/plain": [
       "Index(['name', 'location_id', 'successful_at', 'blurb'], dtype='object')"
      ]
     },
     "execution_count": 17,
     "metadata": {},
     "output_type": "execute_result"
    }
   ],
   "source": [
    "crowdfunding.columns[crowdfunding.isnull().any()]"
   ]
  },
  {
   "cell_type": "code",
   "execution_count": 18,
   "id": "9cbb0b52-cc7a-4327-9d31-b7662d515072",
   "metadata": {},
   "outputs": [
    {
     "data": {
      "text/plain": [
       "id                         0.000000\n",
       "state                      0.000000\n",
       "name                       0.001093\n",
       "country                    0.000000\n",
       "creator_id                 0.000000\n",
       "location_id                0.413783\n",
       "category_id                0.000000\n",
       "created_at                 0.000000\n",
       "deadline                   0.000000\n",
       "updated_at                 0.000000\n",
       "state_changed_at           0.000000\n",
       "successful_at             61.651799\n",
       "launched_at                0.000000\n",
       "goal                       0.000000\n",
       "pledged                    0.000000\n",
       "currency                   0.000000\n",
       "currency_symbol            0.000000\n",
       "usd_pledged                0.000000\n",
       "static_usd_rate            0.000000\n",
       "backers_count              0.000000\n",
       "spotlight                  0.000000\n",
       "staff_pick                 0.000000\n",
       "blurb                      0.007926\n",
       "currency_trailing_code     0.000000\n",
       "disable_communication      0.000000\n",
       "dtype: float64"
      ]
     },
     "execution_count": 18,
     "metadata": {},
     "output_type": "execute_result"
    }
   ],
   "source": [
    "(crowdfunding.isnull().sum() / len(crowdfunding))*100"
   ]
  },
  {
   "cell_type": "code",
   "execution_count": 19,
   "id": "751f0010-2e3c-41ed-b016-e85658c45992",
   "metadata": {},
   "outputs": [],
   "source": [
    "crowdfunding['blurb']=crowdfunding['blurb'].fillna('No Descriptions')"
   ]
  },
  {
   "cell_type": "code",
   "execution_count": 20,
   "id": "16faece6-4868-428e-96d8-3d25a40a76d7",
   "metadata": {},
   "outputs": [
    {
     "data": {
      "text/plain": [
       "id                             0\n",
       "state                          0\n",
       "name                           4\n",
       "country                        0\n",
       "creator_id                     0\n",
       "location_id                 1514\n",
       "category_id                    0\n",
       "created_at                     0\n",
       "deadline                       0\n",
       "updated_at                     0\n",
       "state_changed_at               0\n",
       "successful_at             225579\n",
       "launched_at                    0\n",
       "goal                           0\n",
       "pledged                        0\n",
       "currency                       0\n",
       "currency_symbol                0\n",
       "usd_pledged                    0\n",
       "static_usd_rate                0\n",
       "backers_count                  0\n",
       "spotlight                      0\n",
       "staff_pick                     0\n",
       "blurb                          0\n",
       "currency_trailing_code         0\n",
       "disable_communication          0\n",
       "dtype: int64"
      ]
     },
     "execution_count": 20,
     "metadata": {},
     "output_type": "execute_result"
    }
   ],
   "source": [
    "crowdfunding.isnull().sum()"
   ]
  },
  {
   "cell_type": "code",
   "execution_count": 21,
   "id": "e203f9df-644f-446c-a1d6-4c86b8737bab",
   "metadata": {},
   "outputs": [
    {
     "data": {
      "text/plain": [
       "location_id\n",
       "2442047.0     18582\n",
       "2459115.0     14150\n",
       "44418.0       11468\n",
       "2379574.0      7231\n",
       "2487956.0      6234\n",
       "12589335.0     5611\n",
       "2490383.0      4886\n",
       "2475687.0      4368\n",
       "2357024.0      4339\n",
       "2357536.0      3889\n",
       "Name: count, dtype: int64"
      ]
     },
     "execution_count": 21,
     "metadata": {},
     "output_type": "execute_result"
    }
   ],
   "source": [
    "crowdfunding['location_id'].value_counts(dropna=False).head(10)"
   ]
  },
  {
   "cell_type": "code",
   "execution_count": 22,
   "id": "24159753-beac-4649-91dc-34971a156c1c",
   "metadata": {},
   "outputs": [
    {
     "name": "stderr",
     "output_type": "stream",
     "text": [
      "C:\\Users\\priti\\AppData\\Local\\Temp\\ipykernel_5464\\2126613059.py:1: FutureWarning: A value is trying to be set on a copy of a DataFrame or Series through chained assignment using an inplace method.\n",
      "The behavior will change in pandas 3.0. This inplace method will never work because the intermediate object on which we are setting values always behaves as a copy.\n",
      "\n",
      "For example, when doing 'df[col].method(value, inplace=True)', try using 'df.method({col: value}, inplace=True)' or df[col] = df[col].method(value) instead, to perform the operation inplace on the original object.\n",
      "\n",
      "\n",
      "  crowdfunding['location_id'].replace(['NULL','None','NaN',''],pd.NA,inplace=True)\n"
     ]
    }
   ],
   "source": [
    "crowdfunding['location_id'].replace(['NULL','None','NaN',''],pd.NA,inplace=True)"
   ]
  },
  {
   "cell_type": "code",
   "execution_count": 23,
   "id": "723b0275-aff8-4a2c-9d68-75ccce674498",
   "metadata": {},
   "outputs": [
    {
     "data": {
      "text/plain": [
       "id                             0\n",
       "state                          0\n",
       "name                           4\n",
       "country                        0\n",
       "creator_id                     0\n",
       "location_id                 1514\n",
       "category_id                    0\n",
       "created_at                     0\n",
       "deadline                       0\n",
       "updated_at                     0\n",
       "state_changed_at               0\n",
       "successful_at             225579\n",
       "launched_at                    0\n",
       "goal                           0\n",
       "pledged                        0\n",
       "currency                       0\n",
       "currency_symbol                0\n",
       "usd_pledged                    0\n",
       "static_usd_rate                0\n",
       "backers_count                  0\n",
       "spotlight                      0\n",
       "staff_pick                     0\n",
       "blurb                          0\n",
       "currency_trailing_code         0\n",
       "disable_communication          0\n",
       "dtype: int64"
      ]
     },
     "execution_count": 23,
     "metadata": {},
     "output_type": "execute_result"
    }
   ],
   "source": [
    "crowdfunding.isnull().sum()"
   ]
  },
  {
   "cell_type": "code",
   "execution_count": 24,
   "id": "e6f445a2-99e1-4493-9372-c13659818fb1",
   "metadata": {},
   "outputs": [],
   "source": [
    "crowdfunding['location_id']=crowdfunding['location_id'].fillna(0)"
   ]
  },
  {
   "cell_type": "code",
   "execution_count": 25,
   "id": "6bb8af54-05fb-4a06-9db7-e6d8566679ea",
   "metadata": {},
   "outputs": [
    {
     "data": {
      "text/plain": [
       "id                             0\n",
       "state                          0\n",
       "name                           4\n",
       "country                        0\n",
       "creator_id                     0\n",
       "location_id                    0\n",
       "category_id                    0\n",
       "created_at                     0\n",
       "deadline                       0\n",
       "updated_at                     0\n",
       "state_changed_at               0\n",
       "successful_at             225579\n",
       "launched_at                    0\n",
       "goal                           0\n",
       "pledged                        0\n",
       "currency                       0\n",
       "currency_symbol                0\n",
       "usd_pledged                    0\n",
       "static_usd_rate                0\n",
       "backers_count                  0\n",
       "spotlight                      0\n",
       "staff_pick                     0\n",
       "blurb                          0\n",
       "currency_trailing_code         0\n",
       "disable_communication          0\n",
       "dtype: int64"
      ]
     },
     "execution_count": 25,
     "metadata": {},
     "output_type": "execute_result"
    }
   ],
   "source": [
    "crowdfunding.isnull().sum()"
   ]
  },
  {
   "cell_type": "code",
   "execution_count": 26,
   "id": "51e270d8-3b3a-448c-8a11-30020ef49d2f",
   "metadata": {},
   "outputs": [
    {
     "data": {
      "text/plain": [
       "0                  NaN\n",
       "1                  NaN\n",
       "2                  NaN\n",
       "3                  NaN\n",
       "4                  NaN\n",
       "              ...     \n",
       "365887    1.505317e+09\n",
       "365888    1.456921e+09\n",
       "365889    1.524751e+09\n",
       "365890    1.480187e+09\n",
       "365891    1.449591e+09\n",
       "Name: successful_at, Length: 365892, dtype: float64"
      ]
     },
     "execution_count": 26,
     "metadata": {},
     "output_type": "execute_result"
    }
   ],
   "source": [
    "crowdfunding['successful_at']"
   ]
  },
  {
   "cell_type": "code",
   "execution_count": 27,
   "id": "1ecbef02-5f3f-482e-9a6c-626fb8ea1643",
   "metadata": {},
   "outputs": [],
   "source": [
    "crowdfunding['successful_at']=pd.to_datetime(crowdfunding['successful_at'],unit='s',errors='coerce')"
   ]
  },
  {
   "cell_type": "code",
   "execution_count": 28,
   "id": "229a58c7-afcb-43f0-8d40-13f6b712a4ab",
   "metadata": {},
   "outputs": [
    {
     "data": {
      "text/plain": [
       "0                        NaT\n",
       "1                        NaT\n",
       "2                        NaT\n",
       "3                        NaT\n",
       "4                        NaT\n",
       "                 ...        \n",
       "365887   2017-09-13 15:29:35\n",
       "365888   2016-03-02 12:23:11\n",
       "365889   2018-04-26 13:56:11\n",
       "365890   2016-11-26 18:59:59\n",
       "365891   2015-12-08 16:04:59\n",
       "Name: successful_at, Length: 365892, dtype: datetime64[ns]"
      ]
     },
     "execution_count": 28,
     "metadata": {},
     "output_type": "execute_result"
    }
   ],
   "source": [
    "crowdfunding['successful_at']"
   ]
  },
  {
   "cell_type": "code",
   "execution_count": 29,
   "id": "3211ff2c-960e-4b44-8eaa-c2b2291d186a",
   "metadata": {},
   "outputs": [
    {
     "data": {
      "text/plain": [
       "np.int64(225579)"
      ]
     },
     "execution_count": 29,
     "metadata": {},
     "output_type": "execute_result"
    }
   ],
   "source": [
    "crowdfunding['successful_at'].isnull().sum()"
   ]
  },
  {
   "cell_type": "code",
   "execution_count": 30,
   "id": "c2e4ef39-05b6-4c46-8c07-2d5efd145767",
   "metadata": {},
   "outputs": [],
   "source": [
    "crowdfunding['successful_at']=crowdfunding['successful_at'].fillna(\"NA\")"
   ]
  },
  {
   "cell_type": "code",
   "execution_count": 31,
   "id": "cd6fad6a-1edd-44b3-9671-06f8d6c0be19",
   "metadata": {},
   "outputs": [
    {
     "data": {
      "text/html": [
       "<div>\n",
       "<style scoped>\n",
       "    .dataframe tbody tr th:only-of-type {\n",
       "        vertical-align: middle;\n",
       "    }\n",
       "\n",
       "    .dataframe tbody tr th {\n",
       "        vertical-align: top;\n",
       "    }\n",
       "\n",
       "    .dataframe thead th {\n",
       "        text-align: right;\n",
       "    }\n",
       "</style>\n",
       "<table border=\"1\" class=\"dataframe\">\n",
       "  <thead>\n",
       "    <tr style=\"text-align: right;\">\n",
       "      <th></th>\n",
       "      <th>id</th>\n",
       "      <th>state</th>\n",
       "      <th>name</th>\n",
       "      <th>country</th>\n",
       "      <th>creator_id</th>\n",
       "      <th>location_id</th>\n",
       "      <th>category_id</th>\n",
       "      <th>created_at</th>\n",
       "      <th>deadline</th>\n",
       "      <th>updated_at</th>\n",
       "      <th>...</th>\n",
       "      <th>currency</th>\n",
       "      <th>currency_symbol</th>\n",
       "      <th>usd_pledged</th>\n",
       "      <th>static_usd_rate</th>\n",
       "      <th>backers_count</th>\n",
       "      <th>spotlight</th>\n",
       "      <th>staff_pick</th>\n",
       "      <th>blurb</th>\n",
       "      <th>currency_trailing_code</th>\n",
       "      <th>disable_communication</th>\n",
       "    </tr>\n",
       "  </thead>\n",
       "  <tbody>\n",
       "    <tr>\n",
       "      <th>0</th>\n",
       "      <td>24080365</td>\n",
       "      <td>failed</td>\n",
       "      <td>Feature Film: The Wolfes</td>\n",
       "      <td>US</td>\n",
       "      <td>1439247114</td>\n",
       "      <td>2488042.0</td>\n",
       "      <td>293</td>\n",
       "      <td>1485972639</td>\n",
       "      <td>1488571200</td>\n",
       "      <td>1488571201</td>\n",
       "      <td>...</td>\n",
       "      <td>USD</td>\n",
       "      <td>$</td>\n",
       "      <td>0.0</td>\n",
       "      <td>1.0</td>\n",
       "      <td>0</td>\n",
       "      <td>FALSE</td>\n",
       "      <td>FALSE</td>\n",
       "      <td>My film is about a boy who discovers the truth...</td>\n",
       "      <td>TRUE</td>\n",
       "      <td>FALSE</td>\n",
       "    </tr>\n",
       "    <tr>\n",
       "      <th>1</th>\n",
       "      <td>27131878</td>\n",
       "      <td>failed</td>\n",
       "      <td>BarBQ 4REAL</td>\n",
       "      <td>US</td>\n",
       "      <td>680525996</td>\n",
       "      <td>2466256.0</td>\n",
       "      <td>10</td>\n",
       "      <td>1427846948</td>\n",
       "      <td>1430507319</td>\n",
       "      <td>1430507320</td>\n",
       "      <td>...</td>\n",
       "      <td>USD</td>\n",
       "      <td>$</td>\n",
       "      <td>0.0</td>\n",
       "      <td>1.0</td>\n",
       "      <td>0</td>\n",
       "      <td>FALSE</td>\n",
       "      <td>FALSE</td>\n",
       "      <td>#Try our BBQ It's 4REAL</td>\n",
       "      <td>TRUE</td>\n",
       "      <td>FALSE</td>\n",
       "    </tr>\n",
       "    <tr>\n",
       "      <th>2</th>\n",
       "      <td>30525634</td>\n",
       "      <td>failed</td>\n",
       "      <td>Down on the Street</td>\n",
       "      <td>US</td>\n",
       "      <td>222229854</td>\n",
       "      <td>2458410.0</td>\n",
       "      <td>276</td>\n",
       "      <td>1457479696</td>\n",
       "      <td>1460073915</td>\n",
       "      <td>1460073915</td>\n",
       "      <td>...</td>\n",
       "      <td>USD</td>\n",
       "      <td>$</td>\n",
       "      <td>0.0</td>\n",
       "      <td>1.0</td>\n",
       "      <td>0</td>\n",
       "      <td>FALSE</td>\n",
       "      <td>FALSE</td>\n",
       "      <td>Welcome to Down on the Street. A proposed exhi...</td>\n",
       "      <td>TRUE</td>\n",
       "      <td>FALSE</td>\n",
       "    </tr>\n",
       "    <tr>\n",
       "      <th>3</th>\n",
       "      <td>31977817</td>\n",
       "      <td>failed</td>\n",
       "      <td>Descent into Madness-Stream of Conscious Endur...</td>\n",
       "      <td>US</td>\n",
       "      <td>1978657574</td>\n",
       "      <td>2523194.0</td>\n",
       "      <td>48</td>\n",
       "      <td>1343252842</td>\n",
       "      <td>1346342564</td>\n",
       "      <td>1397791317</td>\n",
       "      <td>...</td>\n",
       "      <td>USD</td>\n",
       "      <td>$</td>\n",
       "      <td>0.0</td>\n",
       "      <td>1.0</td>\n",
       "      <td>0</td>\n",
       "      <td>FALSE</td>\n",
       "      <td>FALSE</td>\n",
       "      <td>Endurance writing for 72 hours, watch an autho...</td>\n",
       "      <td>TRUE</td>\n",
       "      <td>FALSE</td>\n",
       "    </tr>\n",
       "    <tr>\n",
       "      <th>4</th>\n",
       "      <td>33517733</td>\n",
       "      <td>failed</td>\n",
       "      <td>Help us add more content and deliver it faster!</td>\n",
       "      <td>US</td>\n",
       "      <td>1016683395</td>\n",
       "      <td>2433227.0</td>\n",
       "      <td>18</td>\n",
       "      <td>1427808214</td>\n",
       "      <td>1428676182</td>\n",
       "      <td>1428676219</td>\n",
       "      <td>...</td>\n",
       "      <td>USD</td>\n",
       "      <td>$</td>\n",
       "      <td>0.0</td>\n",
       "      <td>1.0</td>\n",
       "      <td>0</td>\n",
       "      <td>FALSE</td>\n",
       "      <td>FALSE</td>\n",
       "      <td>We need to upgrade our technology to create a ...</td>\n",
       "      <td>TRUE</td>\n",
       "      <td>FALSE</td>\n",
       "    </tr>\n",
       "  </tbody>\n",
       "</table>\n",
       "<p>5 rows × 25 columns</p>\n",
       "</div>"
      ],
      "text/plain": [
       "         id   state                                               name  \\\n",
       "0  24080365  failed                           Feature Film: The Wolfes   \n",
       "1  27131878  failed                                        BarBQ 4REAL   \n",
       "2  30525634  failed                                 Down on the Street   \n",
       "3  31977817  failed  Descent into Madness-Stream of Conscious Endur...   \n",
       "4  33517733  failed    Help us add more content and deliver it faster!   \n",
       "\n",
       "  country  creator_id  location_id  category_id  created_at    deadline  \\\n",
       "0      US  1439247114    2488042.0          293  1485972639  1488571200   \n",
       "1      US   680525996    2466256.0           10  1427846948  1430507319   \n",
       "2      US   222229854    2458410.0          276  1457479696  1460073915   \n",
       "3      US  1978657574    2523194.0           48  1343252842  1346342564   \n",
       "4      US  1016683395    2433227.0           18  1427808214  1428676182   \n",
       "\n",
       "   updated_at  ...  currency currency_symbol  usd_pledged  static_usd_rate  \\\n",
       "0  1488571201  ...       USD               $          0.0              1.0   \n",
       "1  1430507320  ...       USD               $          0.0              1.0   \n",
       "2  1460073915  ...       USD               $          0.0              1.0   \n",
       "3  1397791317  ...       USD               $          0.0              1.0   \n",
       "4  1428676219  ...       USD               $          0.0              1.0   \n",
       "\n",
       "   backers_count spotlight staff_pick  \\\n",
       "0              0     FALSE      FALSE   \n",
       "1              0     FALSE      FALSE   \n",
       "2              0     FALSE      FALSE   \n",
       "3              0     FALSE      FALSE   \n",
       "4              0     FALSE      FALSE   \n",
       "\n",
       "                                               blurb  currency_trailing_code  \\\n",
       "0  My film is about a boy who discovers the truth...                    TRUE   \n",
       "1                            #Try our BBQ It's 4REAL                    TRUE   \n",
       "2  Welcome to Down on the Street. A proposed exhi...                    TRUE   \n",
       "3  Endurance writing for 72 hours, watch an autho...                    TRUE   \n",
       "4  We need to upgrade our technology to create a ...                    TRUE   \n",
       "\n",
       "   disable_communication  \n",
       "0                  FALSE  \n",
       "1                  FALSE  \n",
       "2                  FALSE  \n",
       "3                  FALSE  \n",
       "4                  FALSE  \n",
       "\n",
       "[5 rows x 25 columns]"
      ]
     },
     "execution_count": 31,
     "metadata": {},
     "output_type": "execute_result"
    }
   ],
   "source": [
    "crowdfunding.head()"
   ]
  },
  {
   "cell_type": "code",
   "execution_count": 32,
   "id": "22b4545f-8dbf-4e1b-8a6f-9d313cf2390e",
   "metadata": {},
   "outputs": [
    {
     "data": {
      "text/plain": [
       "0                          NA\n",
       "1                          NA\n",
       "2                          NA\n",
       "3                          NA\n",
       "4                          NA\n",
       "                 ...         \n",
       "365887    2017-09-13 15:29:35\n",
       "365888    2016-03-02 12:23:11\n",
       "365889    2018-04-26 13:56:11\n",
       "365890    2016-11-26 18:59:59\n",
       "365891    2015-12-08 16:04:59\n",
       "Name: successful_at, Length: 365892, dtype: object"
      ]
     },
     "execution_count": 32,
     "metadata": {},
     "output_type": "execute_result"
    }
   ],
   "source": [
    "crowdfunding['successful_at']"
   ]
  },
  {
   "cell_type": "code",
   "execution_count": 33,
   "id": "337966d6-24d8-4023-8fe5-a7dff06afca0",
   "metadata": {},
   "outputs": [
    {
     "data": {
      "text/plain": [
       "['id',\n",
       " 'state',\n",
       " 'name',\n",
       " 'country',\n",
       " 'creator_id',\n",
       " 'location_id',\n",
       " 'category_id',\n",
       " 'created_at',\n",
       " 'deadline',\n",
       " 'updated_at',\n",
       " 'state_changed_at',\n",
       " 'successful_at',\n",
       " 'launched_at',\n",
       " 'goal',\n",
       " 'pledged',\n",
       " 'currency',\n",
       " 'currency_symbol',\n",
       " 'usd_pledged',\n",
       " 'static_usd_rate',\n",
       " 'backers_count',\n",
       " 'spotlight',\n",
       " 'staff_pick',\n",
       " 'blurb',\n",
       " 'currency_trailing_code',\n",
       " 'disable_communication']"
      ]
     },
     "execution_count": 33,
     "metadata": {},
     "output_type": "execute_result"
    }
   ],
   "source": [
    "list(crowdfunding.columns)"
   ]
  },
  {
   "cell_type": "code",
   "execution_count": 34,
   "id": "a8b9b4f2-bbff-41e6-8aef-b885c5be317f",
   "metadata": {},
   "outputs": [
    {
     "data": {
      "text/plain": [
       "0         1485972639\n",
       "1         1427846948\n",
       "2         1457479696\n",
       "3         1343252842\n",
       "4         1427808214\n",
       "             ...    \n",
       "365887    1502634055\n",
       "365888    1453418096\n",
       "365889    1521672453\n",
       "365890    1477435864\n",
       "365891    1446153847\n",
       "Name: created_at, Length: 365892, dtype: int64"
      ]
     },
     "execution_count": 34,
     "metadata": {},
     "output_type": "execute_result"
    }
   ],
   "source": [
    "crowdfunding['created_at']"
   ]
  },
  {
   "cell_type": "code",
   "execution_count": 35,
   "id": "8cd74cac-3464-4764-a4c7-355870ad32c3",
   "metadata": {},
   "outputs": [],
   "source": [
    "crowdfunding['created_at']=pd.to_datetime(crowdfunding['created_at'],unit='s',errors='coerce')"
   ]
  },
  {
   "cell_type": "code",
   "execution_count": 36,
   "id": "533289e7-209c-4a06-9f9d-c66bbdb569ac",
   "metadata": {},
   "outputs": [
    {
     "data": {
      "text/plain": [
       "0        2017-02-01 18:10:39\n",
       "1        2015-04-01 00:09:08\n",
       "2        2016-03-08 23:28:16\n",
       "3        2012-07-25 21:47:22\n",
       "4        2015-03-31 13:23:34\n",
       "                 ...        \n",
       "365887   2017-08-13 14:20:55\n",
       "365888   2016-01-21 23:14:56\n",
       "365889   2018-03-21 22:47:33\n",
       "365890   2016-10-25 22:51:04\n",
       "365891   2015-10-29 21:24:07\n",
       "Name: created_at, Length: 365892, dtype: datetime64[ns]"
      ]
     },
     "execution_count": 36,
     "metadata": {},
     "output_type": "execute_result"
    }
   ],
   "source": [
    "crowdfunding['created_at']"
   ]
  },
  {
   "cell_type": "code",
   "execution_count": 37,
   "id": "bd27444e-103e-4ddd-b690-7a70b48f20d0",
   "metadata": {},
   "outputs": [
    {
     "data": {
      "text/plain": [
       "['id',\n",
       " 'state',\n",
       " 'name',\n",
       " 'country',\n",
       " 'creator_id',\n",
       " 'location_id',\n",
       " 'category_id',\n",
       " 'created_at',\n",
       " 'deadline',\n",
       " 'updated_at',\n",
       " 'state_changed_at',\n",
       " 'successful_at',\n",
       " 'launched_at',\n",
       " 'goal',\n",
       " 'pledged',\n",
       " 'currency',\n",
       " 'currency_symbol',\n",
       " 'usd_pledged',\n",
       " 'static_usd_rate',\n",
       " 'backers_count',\n",
       " 'spotlight',\n",
       " 'staff_pick',\n",
       " 'blurb',\n",
       " 'currency_trailing_code',\n",
       " 'disable_communication']"
      ]
     },
     "execution_count": 37,
     "metadata": {},
     "output_type": "execute_result"
    }
   ],
   "source": [
    "list(crowdfunding.columns)"
   ]
  },
  {
   "cell_type": "code",
   "execution_count": 38,
   "id": "a389fa24-08fd-470d-839f-4d451336d101",
   "metadata": {},
   "outputs": [
    {
     "data": {
      "text/plain": [
       "0         1488571200\n",
       "1         1430507319\n",
       "2         1460073915\n",
       "3         1346342564\n",
       "4         1428676182\n",
       "             ...    \n",
       "365887    1505316575\n",
       "365888    1456921390\n",
       "365889    1524750970\n",
       "365890    1480186792\n",
       "365891    1449590699\n",
       "Name: deadline, Length: 365892, dtype: int64"
      ]
     },
     "execution_count": 38,
     "metadata": {},
     "output_type": "execute_result"
    }
   ],
   "source": [
    "crowdfunding['deadline']"
   ]
  },
  {
   "cell_type": "code",
   "execution_count": 39,
   "id": "de302f6f-9f4a-496f-9a23-de7c9d167a9f",
   "metadata": {},
   "outputs": [],
   "source": [
    "crowdfunding['deadline']=pd.to_datetime(crowdfunding['deadline'],unit='s',errors='coerce')"
   ]
  },
  {
   "cell_type": "code",
   "execution_count": 40,
   "id": "c1e5537f-3898-4b68-97bf-f817bb97c47c",
   "metadata": {},
   "outputs": [
    {
     "data": {
      "text/plain": [
       "0        2017-03-03 20:00:00\n",
       "1        2015-05-01 19:08:39\n",
       "2        2016-04-08 00:05:15\n",
       "3        2012-08-30 16:02:44\n",
       "4        2015-04-10 14:29:42\n",
       "                 ...        \n",
       "365887   2017-09-13 15:29:35\n",
       "365888   2016-03-02 12:23:10\n",
       "365889   2018-04-26 13:56:10\n",
       "365890   2016-11-26 18:59:52\n",
       "365891   2015-12-08 16:04:59\n",
       "Name: deadline, Length: 365892, dtype: datetime64[ns]"
      ]
     },
     "execution_count": 40,
     "metadata": {},
     "output_type": "execute_result"
    }
   ],
   "source": [
    "crowdfunding['deadline']"
   ]
  },
  {
   "cell_type": "code",
   "execution_count": 41,
   "id": "05aa7e12-4320-4793-8ea6-bd750f3eac54",
   "metadata": {},
   "outputs": [
    {
     "data": {
      "text/plain": [
       "0         1488571201\n",
       "1         1430507320\n",
       "2         1460073915\n",
       "3         1397791317\n",
       "4         1428676219\n",
       "             ...    \n",
       "365887    1509729959\n",
       "365888    1522123750\n",
       "365889    1526753475\n",
       "365890    1515561081\n",
       "365891    1521951006\n",
       "Name: updated_at, Length: 365892, dtype: int64"
      ]
     },
     "execution_count": 41,
     "metadata": {},
     "output_type": "execute_result"
    }
   ],
   "source": [
    "crowdfunding['updated_at']"
   ]
  },
  {
   "cell_type": "code",
   "execution_count": 42,
   "id": "17b5936d-76bd-4829-a2d0-0631c94c04a4",
   "metadata": {},
   "outputs": [],
   "source": [
    "crowdfunding['updated_at']=pd.to_datetime(crowdfunding['updated_at'],unit='s',errors='coerce')"
   ]
  },
  {
   "cell_type": "code",
   "execution_count": 43,
   "id": "860f2f0e-590c-4c08-9005-4053780b4111",
   "metadata": {},
   "outputs": [
    {
     "data": {
      "text/plain": [
       "0        2017-03-03 20:00:01\n",
       "1        2015-05-01 19:08:40\n",
       "2        2016-04-08 00:05:15\n",
       "3        2014-04-18 03:21:57\n",
       "4        2015-04-10 14:30:19\n",
       "                 ...        \n",
       "365887   2017-11-03 17:25:59\n",
       "365888   2018-03-27 04:09:10\n",
       "365889   2018-05-19 18:11:15\n",
       "365890   2018-01-10 05:11:21\n",
       "365891   2018-03-25 04:10:06\n",
       "Name: updated_at, Length: 365892, dtype: datetime64[ns]"
      ]
     },
     "execution_count": 43,
     "metadata": {},
     "output_type": "execute_result"
    }
   ],
   "source": [
    "crowdfunding['updated_at']"
   ]
  },
  {
   "cell_type": "code",
   "execution_count": 44,
   "id": "2a0d4f47-4ea6-4b5a-b182-59292234eba7",
   "metadata": {},
   "outputs": [
    {
     "data": {
      "text/plain": [
       "0         1488571201\n",
       "1         1430507320\n",
       "2         1460073915\n",
       "3         1346342564\n",
       "4         1428676219\n",
       "             ...    \n",
       "365887    1505316575\n",
       "365888    1456921391\n",
       "365889    1524750971\n",
       "365890    1480186799\n",
       "365891    1449590699\n",
       "Name: state_changed_at, Length: 365892, dtype: int64"
      ]
     },
     "execution_count": 44,
     "metadata": {},
     "output_type": "execute_result"
    }
   ],
   "source": [
    "crowdfunding['state_changed_at']"
   ]
  },
  {
   "cell_type": "code",
   "execution_count": 45,
   "id": "4e2032b7-8a7b-4dcd-becd-d7beaf90a520",
   "metadata": {},
   "outputs": [],
   "source": [
    "crowdfunding['state_changed_at']=pd.to_datetime(crowdfunding['state_changed_at'],unit='s',errors='coerce')"
   ]
  },
  {
   "cell_type": "code",
   "execution_count": 46,
   "id": "c8b9aa0d-9d19-4966-90c5-535bbffc0299",
   "metadata": {},
   "outputs": [
    {
     "data": {
      "text/plain": [
       "0        2017-03-03 20:00:01\n",
       "1        2015-05-01 19:08:40\n",
       "2        2016-04-08 00:05:15\n",
       "3        2012-08-30 16:02:44\n",
       "4        2015-04-10 14:30:19\n",
       "                 ...        \n",
       "365887   2017-09-13 15:29:35\n",
       "365888   2016-03-02 12:23:11\n",
       "365889   2018-04-26 13:56:11\n",
       "365890   2016-11-26 18:59:59\n",
       "365891   2015-12-08 16:04:59\n",
       "Name: state_changed_at, Length: 365892, dtype: datetime64[ns]"
      ]
     },
     "execution_count": 46,
     "metadata": {},
     "output_type": "execute_result"
    }
   ],
   "source": [
    "crowdfunding['state_changed_at']"
   ]
  },
  {
   "cell_type": "code",
   "execution_count": 47,
   "id": "3965a91c-9a7f-4b4a-867c-f29abc69d21a",
   "metadata": {},
   "outputs": [
    {
     "data": {
      "text/plain": [
       "0         1485977434\n",
       "1         1427915319\n",
       "2         1457485515\n",
       "3         1343750564\n",
       "4         1427812182\n",
       "             ...    \n",
       "365887    1503502175\n",
       "365888    1454329390\n",
       "365889    1522158970\n",
       "365890    1477591192\n",
       "365891    1446998699\n",
       "Name: launched_at, Length: 365892, dtype: int64"
      ]
     },
     "execution_count": 47,
     "metadata": {},
     "output_type": "execute_result"
    }
   ],
   "source": [
    "crowdfunding['launched_at']"
   ]
  },
  {
   "cell_type": "code",
   "execution_count": 48,
   "id": "a96a6b4d-776f-4eb9-8b3f-a1f10d23f2a6",
   "metadata": {},
   "outputs": [],
   "source": [
    "crowdfunding['launched_at']=pd.to_datetime(crowdfunding['launched_at'],unit='s',errors='coerce')"
   ]
  },
  {
   "cell_type": "code",
   "execution_count": 49,
   "id": "b9ce93f7-c69d-4e2a-a981-90fcfd4327da",
   "metadata": {},
   "outputs": [
    {
     "data": {
      "text/plain": [
       "0        2017-02-01 19:30:34\n",
       "1        2015-04-01 19:08:39\n",
       "2        2016-03-09 01:05:15\n",
       "3        2012-07-31 16:02:44\n",
       "4        2015-03-31 14:29:42\n",
       "                 ...        \n",
       "365887   2017-08-23 15:29:35\n",
       "365888   2016-02-01 12:23:10\n",
       "365889   2018-03-27 13:56:10\n",
       "365890   2016-10-27 17:59:52\n",
       "365891   2015-11-08 16:04:59\n",
       "Name: launched_at, Length: 365892, dtype: datetime64[ns]"
      ]
     },
     "execution_count": 49,
     "metadata": {},
     "output_type": "execute_result"
    }
   ],
   "source": [
    "crowdfunding['launched_at']"
   ]
  },
  {
   "cell_type": "code",
   "execution_count": 50,
   "id": "066403a2-2e8a-4ccf-9eaf-a49e30e2ba6b",
   "metadata": {},
   "outputs": [
    {
     "data": {
      "text/html": [
       "<div>\n",
       "<style scoped>\n",
       "    .dataframe tbody tr th:only-of-type {\n",
       "        vertical-align: middle;\n",
       "    }\n",
       "\n",
       "    .dataframe tbody tr th {\n",
       "        vertical-align: top;\n",
       "    }\n",
       "\n",
       "    .dataframe thead th {\n",
       "        text-align: right;\n",
       "    }\n",
       "</style>\n",
       "<table border=\"1\" class=\"dataframe\">\n",
       "  <thead>\n",
       "    <tr style=\"text-align: right;\">\n",
       "      <th></th>\n",
       "      <th>id</th>\n",
       "      <th>state</th>\n",
       "      <th>name</th>\n",
       "      <th>country</th>\n",
       "      <th>creator_id</th>\n",
       "      <th>location_id</th>\n",
       "      <th>category_id</th>\n",
       "      <th>created_at</th>\n",
       "      <th>deadline</th>\n",
       "      <th>updated_at</th>\n",
       "      <th>...</th>\n",
       "      <th>currency</th>\n",
       "      <th>currency_symbol</th>\n",
       "      <th>usd_pledged</th>\n",
       "      <th>static_usd_rate</th>\n",
       "      <th>backers_count</th>\n",
       "      <th>spotlight</th>\n",
       "      <th>staff_pick</th>\n",
       "      <th>blurb</th>\n",
       "      <th>currency_trailing_code</th>\n",
       "      <th>disable_communication</th>\n",
       "    </tr>\n",
       "  </thead>\n",
       "  <tbody>\n",
       "    <tr>\n",
       "      <th>0</th>\n",
       "      <td>24080365</td>\n",
       "      <td>failed</td>\n",
       "      <td>Feature Film: The Wolfes</td>\n",
       "      <td>US</td>\n",
       "      <td>1439247114</td>\n",
       "      <td>2488042.0</td>\n",
       "      <td>293</td>\n",
       "      <td>2017-02-01 18:10:39</td>\n",
       "      <td>2017-03-03 20:00:00</td>\n",
       "      <td>2017-03-03 20:00:01</td>\n",
       "      <td>...</td>\n",
       "      <td>USD</td>\n",
       "      <td>$</td>\n",
       "      <td>0.0</td>\n",
       "      <td>1.0</td>\n",
       "      <td>0</td>\n",
       "      <td>FALSE</td>\n",
       "      <td>FALSE</td>\n",
       "      <td>My film is about a boy who discovers the truth...</td>\n",
       "      <td>TRUE</td>\n",
       "      <td>FALSE</td>\n",
       "    </tr>\n",
       "    <tr>\n",
       "      <th>1</th>\n",
       "      <td>27131878</td>\n",
       "      <td>failed</td>\n",
       "      <td>BarBQ 4REAL</td>\n",
       "      <td>US</td>\n",
       "      <td>680525996</td>\n",
       "      <td>2466256.0</td>\n",
       "      <td>10</td>\n",
       "      <td>2015-04-01 00:09:08</td>\n",
       "      <td>2015-05-01 19:08:39</td>\n",
       "      <td>2015-05-01 19:08:40</td>\n",
       "      <td>...</td>\n",
       "      <td>USD</td>\n",
       "      <td>$</td>\n",
       "      <td>0.0</td>\n",
       "      <td>1.0</td>\n",
       "      <td>0</td>\n",
       "      <td>FALSE</td>\n",
       "      <td>FALSE</td>\n",
       "      <td>#Try our BBQ It's 4REAL</td>\n",
       "      <td>TRUE</td>\n",
       "      <td>FALSE</td>\n",
       "    </tr>\n",
       "    <tr>\n",
       "      <th>2</th>\n",
       "      <td>30525634</td>\n",
       "      <td>failed</td>\n",
       "      <td>Down on the Street</td>\n",
       "      <td>US</td>\n",
       "      <td>222229854</td>\n",
       "      <td>2458410.0</td>\n",
       "      <td>276</td>\n",
       "      <td>2016-03-08 23:28:16</td>\n",
       "      <td>2016-04-08 00:05:15</td>\n",
       "      <td>2016-04-08 00:05:15</td>\n",
       "      <td>...</td>\n",
       "      <td>USD</td>\n",
       "      <td>$</td>\n",
       "      <td>0.0</td>\n",
       "      <td>1.0</td>\n",
       "      <td>0</td>\n",
       "      <td>FALSE</td>\n",
       "      <td>FALSE</td>\n",
       "      <td>Welcome to Down on the Street. A proposed exhi...</td>\n",
       "      <td>TRUE</td>\n",
       "      <td>FALSE</td>\n",
       "    </tr>\n",
       "    <tr>\n",
       "      <th>3</th>\n",
       "      <td>31977817</td>\n",
       "      <td>failed</td>\n",
       "      <td>Descent into Madness-Stream of Conscious Endur...</td>\n",
       "      <td>US</td>\n",
       "      <td>1978657574</td>\n",
       "      <td>2523194.0</td>\n",
       "      <td>48</td>\n",
       "      <td>2012-07-25 21:47:22</td>\n",
       "      <td>2012-08-30 16:02:44</td>\n",
       "      <td>2014-04-18 03:21:57</td>\n",
       "      <td>...</td>\n",
       "      <td>USD</td>\n",
       "      <td>$</td>\n",
       "      <td>0.0</td>\n",
       "      <td>1.0</td>\n",
       "      <td>0</td>\n",
       "      <td>FALSE</td>\n",
       "      <td>FALSE</td>\n",
       "      <td>Endurance writing for 72 hours, watch an autho...</td>\n",
       "      <td>TRUE</td>\n",
       "      <td>FALSE</td>\n",
       "    </tr>\n",
       "    <tr>\n",
       "      <th>4</th>\n",
       "      <td>33517733</td>\n",
       "      <td>failed</td>\n",
       "      <td>Help us add more content and deliver it faster!</td>\n",
       "      <td>US</td>\n",
       "      <td>1016683395</td>\n",
       "      <td>2433227.0</td>\n",
       "      <td>18</td>\n",
       "      <td>2015-03-31 13:23:34</td>\n",
       "      <td>2015-04-10 14:29:42</td>\n",
       "      <td>2015-04-10 14:30:19</td>\n",
       "      <td>...</td>\n",
       "      <td>USD</td>\n",
       "      <td>$</td>\n",
       "      <td>0.0</td>\n",
       "      <td>1.0</td>\n",
       "      <td>0</td>\n",
       "      <td>FALSE</td>\n",
       "      <td>FALSE</td>\n",
       "      <td>We need to upgrade our technology to create a ...</td>\n",
       "      <td>TRUE</td>\n",
       "      <td>FALSE</td>\n",
       "    </tr>\n",
       "  </tbody>\n",
       "</table>\n",
       "<p>5 rows × 25 columns</p>\n",
       "</div>"
      ],
      "text/plain": [
       "         id   state                                               name  \\\n",
       "0  24080365  failed                           Feature Film: The Wolfes   \n",
       "1  27131878  failed                                        BarBQ 4REAL   \n",
       "2  30525634  failed                                 Down on the Street   \n",
       "3  31977817  failed  Descent into Madness-Stream of Conscious Endur...   \n",
       "4  33517733  failed    Help us add more content and deliver it faster!   \n",
       "\n",
       "  country  creator_id  location_id  category_id          created_at  \\\n",
       "0      US  1439247114    2488042.0          293 2017-02-01 18:10:39   \n",
       "1      US   680525996    2466256.0           10 2015-04-01 00:09:08   \n",
       "2      US   222229854    2458410.0          276 2016-03-08 23:28:16   \n",
       "3      US  1978657574    2523194.0           48 2012-07-25 21:47:22   \n",
       "4      US  1016683395    2433227.0           18 2015-03-31 13:23:34   \n",
       "\n",
       "             deadline          updated_at  ... currency currency_symbol  \\\n",
       "0 2017-03-03 20:00:00 2017-03-03 20:00:01  ...      USD               $   \n",
       "1 2015-05-01 19:08:39 2015-05-01 19:08:40  ...      USD               $   \n",
       "2 2016-04-08 00:05:15 2016-04-08 00:05:15  ...      USD               $   \n",
       "3 2012-08-30 16:02:44 2014-04-18 03:21:57  ...      USD               $   \n",
       "4 2015-04-10 14:29:42 2015-04-10 14:30:19  ...      USD               $   \n",
       "\n",
       "  usd_pledged  static_usd_rate  backers_count spotlight staff_pick  \\\n",
       "0         0.0              1.0              0     FALSE      FALSE   \n",
       "1         0.0              1.0              0     FALSE      FALSE   \n",
       "2         0.0              1.0              0     FALSE      FALSE   \n",
       "3         0.0              1.0              0     FALSE      FALSE   \n",
       "4         0.0              1.0              0     FALSE      FALSE   \n",
       "\n",
       "                                               blurb  currency_trailing_code  \\\n",
       "0  My film is about a boy who discovers the truth...                    TRUE   \n",
       "1                            #Try our BBQ It's 4REAL                    TRUE   \n",
       "2  Welcome to Down on the Street. A proposed exhi...                    TRUE   \n",
       "3  Endurance writing for 72 hours, watch an autho...                    TRUE   \n",
       "4  We need to upgrade our technology to create a ...                    TRUE   \n",
       "\n",
       "   disable_communication  \n",
       "0                  FALSE  \n",
       "1                  FALSE  \n",
       "2                  FALSE  \n",
       "3                  FALSE  \n",
       "4                  FALSE  \n",
       "\n",
       "[5 rows x 25 columns]"
      ]
     },
     "execution_count": 50,
     "metadata": {},
     "output_type": "execute_result"
    }
   ],
   "source": [
    "crowdfunding.head()"
   ]
  },
  {
   "cell_type": "code",
   "execution_count": 51,
   "id": "db926636-2f6b-4419-b821-ab4bad90d90c",
   "metadata": {},
   "outputs": [
    {
     "data": {
      "text/plain": [
       "id                        0\n",
       "state                     0\n",
       "name                      4\n",
       "country                   0\n",
       "creator_id                0\n",
       "location_id               0\n",
       "category_id               0\n",
       "created_at                0\n",
       "deadline                  0\n",
       "updated_at                0\n",
       "state_changed_at          0\n",
       "successful_at             0\n",
       "launched_at               0\n",
       "goal                      0\n",
       "pledged                   0\n",
       "currency                  0\n",
       "currency_symbol           0\n",
       "usd_pledged               0\n",
       "static_usd_rate           0\n",
       "backers_count             0\n",
       "spotlight                 0\n",
       "staff_pick                0\n",
       "blurb                     0\n",
       "currency_trailing_code    0\n",
       "disable_communication     0\n",
       "dtype: int64"
      ]
     },
     "execution_count": 51,
     "metadata": {},
     "output_type": "execute_result"
    }
   ],
   "source": [
    "crowdfunding.isnull().sum()"
   ]
  },
  {
   "cell_type": "code",
   "execution_count": 52,
   "id": "ddeed0be-78a2-4a5f-a3dc-75935bfcb63d",
   "metadata": {},
   "outputs": [],
   "source": [
    "crowdfunding['name']=crowdfunding['name'].fillna('Unknown')"
   ]
  },
  {
   "cell_type": "code",
   "execution_count": 53,
   "id": "7a8b17f0-103c-4cef-81f2-403add0d120d",
   "metadata": {},
   "outputs": [
    {
     "data": {
      "text/plain": [
       "np.int64(0)"
      ]
     },
     "execution_count": 53,
     "metadata": {},
     "output_type": "execute_result"
    }
   ],
   "source": [
    "crowdfunding.isnull().sum().sum()"
   ]
  },
  {
   "cell_type": "code",
   "execution_count": 54,
   "id": "00a6c428-1af0-4282-8ade-b37069473a58",
   "metadata": {},
   "outputs": [
    {
     "data": {
      "text/plain": [
       "np.int64(0)"
      ]
     },
     "execution_count": 54,
     "metadata": {},
     "output_type": "execute_result"
    }
   ],
   "source": [
    "crowdfunding['id'].duplicated().sum()"
   ]
  },
  {
   "cell_type": "code",
   "execution_count": 55,
   "id": "7a235d40-6822-40c1-bcf9-a820b16d1901",
   "metadata": {},
   "outputs": [
    {
     "data": {
      "text/plain": [
       "np.int64(0)"
      ]
     },
     "execution_count": 55,
     "metadata": {},
     "output_type": "execute_result"
    }
   ],
   "source": [
    "crowdfunding.duplicated().sum()"
   ]
  },
  {
   "cell_type": "code",
   "execution_count": 56,
   "id": "1e8b2764-79fc-4cf0-9d55-11d08d02678b",
   "metadata": {},
   "outputs": [],
   "source": [
    "crowdfunding.drop_duplicates(inplace=True)"
   ]
  },
  {
   "cell_type": "code",
   "execution_count": 57,
   "id": "1578a3e2-209e-4242-83bf-5e00e6d64c72",
   "metadata": {},
   "outputs": [
    {
     "data": {
      "text/html": [
       "<div>\n",
       "<style scoped>\n",
       "    .dataframe tbody tr th:only-of-type {\n",
       "        vertical-align: middle;\n",
       "    }\n",
       "\n",
       "    .dataframe tbody tr th {\n",
       "        vertical-align: top;\n",
       "    }\n",
       "\n",
       "    .dataframe thead th {\n",
       "        text-align: right;\n",
       "    }\n",
       "</style>\n",
       "<table border=\"1\" class=\"dataframe\">\n",
       "  <thead>\n",
       "    <tr style=\"text-align: right;\">\n",
       "      <th></th>\n",
       "      <th>id</th>\n",
       "      <th>state</th>\n",
       "      <th>name</th>\n",
       "      <th>country</th>\n",
       "      <th>creator_id</th>\n",
       "      <th>location_id</th>\n",
       "      <th>category_id</th>\n",
       "      <th>created_at</th>\n",
       "      <th>deadline</th>\n",
       "      <th>updated_at</th>\n",
       "      <th>...</th>\n",
       "      <th>currency</th>\n",
       "      <th>currency_symbol</th>\n",
       "      <th>usd_pledged</th>\n",
       "      <th>static_usd_rate</th>\n",
       "      <th>backers_count</th>\n",
       "      <th>spotlight</th>\n",
       "      <th>staff_pick</th>\n",
       "      <th>blurb</th>\n",
       "      <th>currency_trailing_code</th>\n",
       "      <th>disable_communication</th>\n",
       "    </tr>\n",
       "  </thead>\n",
       "  <tbody>\n",
       "    <tr>\n",
       "      <th>0</th>\n",
       "      <td>24080365</td>\n",
       "      <td>failed</td>\n",
       "      <td>Feature Film: The Wolfes</td>\n",
       "      <td>US</td>\n",
       "      <td>1439247114</td>\n",
       "      <td>2488042.0</td>\n",
       "      <td>293</td>\n",
       "      <td>2017-02-01 18:10:39</td>\n",
       "      <td>2017-03-03 20:00:00</td>\n",
       "      <td>2017-03-03 20:00:01</td>\n",
       "      <td>...</td>\n",
       "      <td>USD</td>\n",
       "      <td>$</td>\n",
       "      <td>0.0</td>\n",
       "      <td>1.0</td>\n",
       "      <td>0</td>\n",
       "      <td>FALSE</td>\n",
       "      <td>FALSE</td>\n",
       "      <td>My film is about a boy who discovers the truth...</td>\n",
       "      <td>TRUE</td>\n",
       "      <td>FALSE</td>\n",
       "    </tr>\n",
       "    <tr>\n",
       "      <th>1</th>\n",
       "      <td>27131878</td>\n",
       "      <td>failed</td>\n",
       "      <td>BarBQ 4REAL</td>\n",
       "      <td>US</td>\n",
       "      <td>680525996</td>\n",
       "      <td>2466256.0</td>\n",
       "      <td>10</td>\n",
       "      <td>2015-04-01 00:09:08</td>\n",
       "      <td>2015-05-01 19:08:39</td>\n",
       "      <td>2015-05-01 19:08:40</td>\n",
       "      <td>...</td>\n",
       "      <td>USD</td>\n",
       "      <td>$</td>\n",
       "      <td>0.0</td>\n",
       "      <td>1.0</td>\n",
       "      <td>0</td>\n",
       "      <td>FALSE</td>\n",
       "      <td>FALSE</td>\n",
       "      <td>#Try our BBQ It's 4REAL</td>\n",
       "      <td>TRUE</td>\n",
       "      <td>FALSE</td>\n",
       "    </tr>\n",
       "    <tr>\n",
       "      <th>2</th>\n",
       "      <td>30525634</td>\n",
       "      <td>failed</td>\n",
       "      <td>Down on the Street</td>\n",
       "      <td>US</td>\n",
       "      <td>222229854</td>\n",
       "      <td>2458410.0</td>\n",
       "      <td>276</td>\n",
       "      <td>2016-03-08 23:28:16</td>\n",
       "      <td>2016-04-08 00:05:15</td>\n",
       "      <td>2016-04-08 00:05:15</td>\n",
       "      <td>...</td>\n",
       "      <td>USD</td>\n",
       "      <td>$</td>\n",
       "      <td>0.0</td>\n",
       "      <td>1.0</td>\n",
       "      <td>0</td>\n",
       "      <td>FALSE</td>\n",
       "      <td>FALSE</td>\n",
       "      <td>Welcome to Down on the Street. A proposed exhi...</td>\n",
       "      <td>TRUE</td>\n",
       "      <td>FALSE</td>\n",
       "    </tr>\n",
       "    <tr>\n",
       "      <th>3</th>\n",
       "      <td>31977817</td>\n",
       "      <td>failed</td>\n",
       "      <td>Descent into Madness-Stream of Conscious Endur...</td>\n",
       "      <td>US</td>\n",
       "      <td>1978657574</td>\n",
       "      <td>2523194.0</td>\n",
       "      <td>48</td>\n",
       "      <td>2012-07-25 21:47:22</td>\n",
       "      <td>2012-08-30 16:02:44</td>\n",
       "      <td>2014-04-18 03:21:57</td>\n",
       "      <td>...</td>\n",
       "      <td>USD</td>\n",
       "      <td>$</td>\n",
       "      <td>0.0</td>\n",
       "      <td>1.0</td>\n",
       "      <td>0</td>\n",
       "      <td>FALSE</td>\n",
       "      <td>FALSE</td>\n",
       "      <td>Endurance writing for 72 hours, watch an autho...</td>\n",
       "      <td>TRUE</td>\n",
       "      <td>FALSE</td>\n",
       "    </tr>\n",
       "    <tr>\n",
       "      <th>4</th>\n",
       "      <td>33517733</td>\n",
       "      <td>failed</td>\n",
       "      <td>Help us add more content and deliver it faster!</td>\n",
       "      <td>US</td>\n",
       "      <td>1016683395</td>\n",
       "      <td>2433227.0</td>\n",
       "      <td>18</td>\n",
       "      <td>2015-03-31 13:23:34</td>\n",
       "      <td>2015-04-10 14:29:42</td>\n",
       "      <td>2015-04-10 14:30:19</td>\n",
       "      <td>...</td>\n",
       "      <td>USD</td>\n",
       "      <td>$</td>\n",
       "      <td>0.0</td>\n",
       "      <td>1.0</td>\n",
       "      <td>0</td>\n",
       "      <td>FALSE</td>\n",
       "      <td>FALSE</td>\n",
       "      <td>We need to upgrade our technology to create a ...</td>\n",
       "      <td>TRUE</td>\n",
       "      <td>FALSE</td>\n",
       "    </tr>\n",
       "  </tbody>\n",
       "</table>\n",
       "<p>5 rows × 25 columns</p>\n",
       "</div>"
      ],
      "text/plain": [
       "         id   state                                               name  \\\n",
       "0  24080365  failed                           Feature Film: The Wolfes   \n",
       "1  27131878  failed                                        BarBQ 4REAL   \n",
       "2  30525634  failed                                 Down on the Street   \n",
       "3  31977817  failed  Descent into Madness-Stream of Conscious Endur...   \n",
       "4  33517733  failed    Help us add more content and deliver it faster!   \n",
       "\n",
       "  country  creator_id  location_id  category_id          created_at  \\\n",
       "0      US  1439247114    2488042.0          293 2017-02-01 18:10:39   \n",
       "1      US   680525996    2466256.0           10 2015-04-01 00:09:08   \n",
       "2      US   222229854    2458410.0          276 2016-03-08 23:28:16   \n",
       "3      US  1978657574    2523194.0           48 2012-07-25 21:47:22   \n",
       "4      US  1016683395    2433227.0           18 2015-03-31 13:23:34   \n",
       "\n",
       "             deadline          updated_at  ... currency currency_symbol  \\\n",
       "0 2017-03-03 20:00:00 2017-03-03 20:00:01  ...      USD               $   \n",
       "1 2015-05-01 19:08:39 2015-05-01 19:08:40  ...      USD               $   \n",
       "2 2016-04-08 00:05:15 2016-04-08 00:05:15  ...      USD               $   \n",
       "3 2012-08-30 16:02:44 2014-04-18 03:21:57  ...      USD               $   \n",
       "4 2015-04-10 14:29:42 2015-04-10 14:30:19  ...      USD               $   \n",
       "\n",
       "  usd_pledged  static_usd_rate  backers_count spotlight staff_pick  \\\n",
       "0         0.0              1.0              0     FALSE      FALSE   \n",
       "1         0.0              1.0              0     FALSE      FALSE   \n",
       "2         0.0              1.0              0     FALSE      FALSE   \n",
       "3         0.0              1.0              0     FALSE      FALSE   \n",
       "4         0.0              1.0              0     FALSE      FALSE   \n",
       "\n",
       "                                               blurb  currency_trailing_code  \\\n",
       "0  My film is about a boy who discovers the truth...                    TRUE   \n",
       "1                            #Try our BBQ It's 4REAL                    TRUE   \n",
       "2  Welcome to Down on the Street. A proposed exhi...                    TRUE   \n",
       "3  Endurance writing for 72 hours, watch an autho...                    TRUE   \n",
       "4  We need to upgrade our technology to create a ...                    TRUE   \n",
       "\n",
       "   disable_communication  \n",
       "0                  FALSE  \n",
       "1                  FALSE  \n",
       "2                  FALSE  \n",
       "3                  FALSE  \n",
       "4                  FALSE  \n",
       "\n",
       "[5 rows x 25 columns]"
      ]
     },
     "execution_count": 57,
     "metadata": {},
     "output_type": "execute_result"
    }
   ],
   "source": [
    "crowdfunding.head()"
   ]
  },
  {
   "cell_type": "code",
   "execution_count": 58,
   "id": "d978beea-77aa-46a5-ad40-009b9836a176",
   "metadata": {},
   "outputs": [
    {
     "data": {
      "text/plain": [
       "0         False\n",
       "1         False\n",
       "2         False\n",
       "3         False\n",
       "4         False\n",
       "          ...  \n",
       "365887    False\n",
       "365888    False\n",
       "365889    False\n",
       "365890    False\n",
       "365891    False\n",
       "Length: 365892, dtype: bool"
      ]
     },
     "execution_count": 58,
     "metadata": {},
     "output_type": "execute_result"
    }
   ],
   "source": [
    "crowdfunding.duplicated()"
   ]
  },
  {
   "cell_type": "code",
   "execution_count": 59,
   "id": "64ff092b-9bd8-421d-a7a9-408bbaccd992",
   "metadata": {},
   "outputs": [],
   "source": [
    "category=pd.read_csv('D:\\ExcelR\\CrowdFunding Project Files\\CrowdFunding\\crowdfunding_category.CSV')"
   ]
  },
  {
   "cell_type": "code",
   "execution_count": 60,
   "id": "88027f34-1ca4-4202-ac3f-9c95186570db",
   "metadata": {},
   "outputs": [
    {
     "data": {
      "text/html": [
       "<div>\n",
       "<style scoped>\n",
       "    .dataframe tbody tr th:only-of-type {\n",
       "        vertical-align: middle;\n",
       "    }\n",
       "\n",
       "    .dataframe tbody tr th {\n",
       "        vertical-align: top;\n",
       "    }\n",
       "\n",
       "    .dataframe thead th {\n",
       "        text-align: right;\n",
       "    }\n",
       "</style>\n",
       "<table border=\"1\" class=\"dataframe\">\n",
       "  <thead>\n",
       "    <tr style=\"text-align: right;\">\n",
       "      <th></th>\n",
       "      <th>id</th>\n",
       "      <th>name</th>\n",
       "      <th>parent_id</th>\n",
       "      <th>position</th>\n",
       "    </tr>\n",
       "  </thead>\n",
       "  <tbody>\n",
       "    <tr>\n",
       "      <th>0</th>\n",
       "      <td>354</td>\n",
       "      <td>Taxidermy</td>\n",
       "      <td>26.0</td>\n",
       "      <td>12</td>\n",
       "    </tr>\n",
       "    <tr>\n",
       "      <th>1</th>\n",
       "      <td>347</td>\n",
       "      <td>Glass</td>\n",
       "      <td>26.0</td>\n",
       "      <td>5</td>\n",
       "    </tr>\n",
       "    <tr>\n",
       "      <th>2</th>\n",
       "      <td>352</td>\n",
       "      <td>Quilts</td>\n",
       "      <td>26.0</td>\n",
       "      <td>10</td>\n",
       "    </tr>\n",
       "    <tr>\n",
       "      <th>3</th>\n",
       "      <td>336</td>\n",
       "      <td>Flight</td>\n",
       "      <td>16.0</td>\n",
       "      <td>6</td>\n",
       "    </tr>\n",
       "    <tr>\n",
       "      <th>4</th>\n",
       "      <td>255</td>\n",
       "      <td>Residencies</td>\n",
       "      <td>6.0</td>\n",
       "      <td>2</td>\n",
       "    </tr>\n",
       "  </tbody>\n",
       "</table>\n",
       "</div>"
      ],
      "text/plain": [
       "    id         name  parent_id  position\n",
       "0  354    Taxidermy       26.0        12\n",
       "1  347        Glass       26.0         5\n",
       "2  352       Quilts       26.0        10\n",
       "3  336       Flight       16.0         6\n",
       "4  255  Residencies        6.0         2"
      ]
     },
     "execution_count": 60,
     "metadata": {},
     "output_type": "execute_result"
    }
   ],
   "source": [
    "category.head()"
   ]
  },
  {
   "cell_type": "code",
   "execution_count": 61,
   "id": "d63beacc-7049-4465-9c53-45b1a39b1248",
   "metadata": {},
   "outputs": [
    {
     "data": {
      "text/plain": [
       "id            0\n",
       "name          0\n",
       "parent_id    15\n",
       "position      0\n",
       "dtype: int64"
      ]
     },
     "execution_count": 61,
     "metadata": {},
     "output_type": "execute_result"
    }
   ],
   "source": [
    "category.isnull().sum()"
   ]
  },
  {
   "cell_type": "code",
   "execution_count": 62,
   "id": "b1ee6baa-22bb-4d33-b9cd-3223d3c08404",
   "metadata": {},
   "outputs": [],
   "source": [
    "category['parent_id']=category['parent_id'].fillna(0)"
   ]
  },
  {
   "cell_type": "code",
   "execution_count": 63,
   "id": "9898a97f-8d4f-434b-8b32-9c2f099fb821",
   "metadata": {},
   "outputs": [
    {
     "data": {
      "text/plain": [
       "id           0\n",
       "name         0\n",
       "parent_id    0\n",
       "position     0\n",
       "dtype: int64"
      ]
     },
     "execution_count": 63,
     "metadata": {},
     "output_type": "execute_result"
    }
   ],
   "source": [
    "category.isnull().sum()"
   ]
  },
  {
   "cell_type": "code",
   "execution_count": 64,
   "id": "753ec4b2-a1ea-4c2e-a822-ba772f96be9f",
   "metadata": {},
   "outputs": [
    {
     "data": {
      "text/plain": [
       "0      26.0\n",
       "1      26.0\n",
       "2      26.0\n",
       "3      16.0\n",
       "4       6.0\n",
       "       ... \n",
       "164    16.0\n",
       "165    26.0\n",
       "166     1.0\n",
       "167    12.0\n",
       "168     0.0\n",
       "Name: parent_id, Length: 169, dtype: float64"
      ]
     },
     "execution_count": 64,
     "metadata": {},
     "output_type": "execute_result"
    }
   ],
   "source": [
    "category['parent_id']"
   ]
  },
  {
   "cell_type": "code",
   "execution_count": 65,
   "id": "1546f0d8-e538-43e0-afe0-b73adb53369d",
   "metadata": {},
   "outputs": [
    {
     "data": {
      "text/plain": [
       "id           0\n",
       "name         0\n",
       "parent_id    0\n",
       "position     0\n",
       "dtype: int64"
      ]
     },
     "execution_count": 65,
     "metadata": {},
     "output_type": "execute_result"
    }
   ],
   "source": [
    "category.isnull().sum()"
   ]
  },
  {
   "cell_type": "code",
   "execution_count": 66,
   "id": "3b18529e-ce3c-4599-b0a9-dc9cdbacb544",
   "metadata": {},
   "outputs": [
    {
     "data": {
      "text/plain": [
       "name\n",
       "Comedy          4\n",
       "Spaces          3\n",
       "Events          2\n",
       "Festivals       2\n",
       "Web             2\n",
       "               ..\n",
       "Gadgets         1\n",
       "Weaving         1\n",
       "Illustration    1\n",
       "Video Games     1\n",
       "Technology      1\n",
       "Name: count, Length: 159, dtype: int64"
      ]
     },
     "execution_count": 66,
     "metadata": {},
     "output_type": "execute_result"
    }
   ],
   "source": [
    "category['name'].value_counts()"
   ]
  },
  {
   "cell_type": "code",
   "execution_count": 67,
   "id": "7e46d4a3-5cd8-4186-94fc-b29a3d46dd3c",
   "metadata": {},
   "outputs": [
    {
     "data": {
      "text/plain": [
       "np.int64(0)"
      ]
     },
     "execution_count": 67,
     "metadata": {},
     "output_type": "execute_result"
    }
   ],
   "source": [
    "category.duplicated().sum()"
   ]
  },
  {
   "cell_type": "code",
   "execution_count": 68,
   "id": "543b2886-de38-49f7-9358-480e560af55f",
   "metadata": {},
   "outputs": [
    {
     "name": "stderr",
     "output_type": "stream",
     "text": [
      "C:\\Users\\priti\\AppData\\Local\\Temp\\ipykernel_5464\\4025994035.py:1: DtypeWarning: Columns (2) have mixed types. Specify dtype option on import or set low_memory=False.\n",
      "  creator=pd.read_csv('D:\\ExcelR\\CrowdFunding Project Files\\CrowdFunding\\Crowdfunding_Creator.CSV')\n"
     ]
    }
   ],
   "source": [
    "creator=pd.read_csv('D:\\ExcelR\\CrowdFunding Project Files\\CrowdFunding\\Crowdfunding_Creator.CSV')"
   ]
  },
  {
   "cell_type": "code",
   "execution_count": 69,
   "id": "195bc14a-8433-4486-ab17-cfcad76fefbd",
   "metadata": {},
   "outputs": [
    {
     "data": {
      "text/html": [
       "<div>\n",
       "<style scoped>\n",
       "    .dataframe tbody tr th:only-of-type {\n",
       "        vertical-align: middle;\n",
       "    }\n",
       "\n",
       "    .dataframe tbody tr th {\n",
       "        vertical-align: top;\n",
       "    }\n",
       "\n",
       "    .dataframe thead th {\n",
       "        text-align: right;\n",
       "    }\n",
       "</style>\n",
       "<table border=\"1\" class=\"dataframe\">\n",
       "  <thead>\n",
       "    <tr style=\"text-align: right;\">\n",
       "      <th></th>\n",
       "      <th>id</th>\n",
       "      <th>name</th>\n",
       "      <th>chosen_currency</th>\n",
       "    </tr>\n",
       "  </thead>\n",
       "  <tbody>\n",
       "    <tr>\n",
       "      <th>0</th>\n",
       "      <td>48480</td>\n",
       "      <td>Robert Maehre (deleted)</td>\n",
       "      <td>NaN</td>\n",
       "    </tr>\n",
       "    <tr>\n",
       "      <th>1</th>\n",
       "      <td>383340</td>\n",
       "      <td>Holly (deleted)</td>\n",
       "      <td>NaN</td>\n",
       "    </tr>\n",
       "    <tr>\n",
       "      <th>2</th>\n",
       "      <td>463486</td>\n",
       "      <td>Robert Deusser</td>\n",
       "      <td>NaN</td>\n",
       "    </tr>\n",
       "    <tr>\n",
       "      <th>3</th>\n",
       "      <td>582581</td>\n",
       "      <td>StoryShed Media, Michael Maupin (deleted)</td>\n",
       "      <td>NaN</td>\n",
       "    </tr>\n",
       "    <tr>\n",
       "      <th>4</th>\n",
       "      <td>905479</td>\n",
       "      <td>Mason Peterson (deleted)</td>\n",
       "      <td>NaN</td>\n",
       "    </tr>\n",
       "  </tbody>\n",
       "</table>\n",
       "</div>"
      ],
      "text/plain": [
       "       id                                       name chosen_currency\n",
       "0   48480                    Robert Maehre (deleted)             NaN\n",
       "1  383340                            Holly (deleted)             NaN\n",
       "2  463486                             Robert Deusser             NaN\n",
       "3  582581  StoryShed Media, Michael Maupin (deleted)             NaN\n",
       "4  905479                   Mason Peterson (deleted)             NaN"
      ]
     },
     "execution_count": 69,
     "metadata": {},
     "output_type": "execute_result"
    }
   ],
   "source": [
    "creator.head()"
   ]
  },
  {
   "cell_type": "code",
   "execution_count": 70,
   "id": "5f184126-2845-4b6f-a743-359577087f3d",
   "metadata": {},
   "outputs": [
    {
     "data": {
      "text/plain": [
       "id                      0\n",
       "name                    3\n",
       "chosen_currency    334109\n",
       "dtype: int64"
      ]
     },
     "execution_count": 70,
     "metadata": {},
     "output_type": "execute_result"
    }
   ],
   "source": [
    "creator.isnull().sum()"
   ]
  },
  {
   "cell_type": "code",
   "execution_count": 71,
   "id": "ee03a161-22da-4ebc-9bb3-fadeffcd18d3",
   "metadata": {},
   "outputs": [],
   "source": [
    "creator['name']=creator['name'].fillna('unknown')"
   ]
  },
  {
   "cell_type": "code",
   "execution_count": 72,
   "id": "29140d38-d95c-46fe-a905-a27bd51be05a",
   "metadata": {},
   "outputs": [
    {
     "data": {
      "text/plain": [
       "id                      0\n",
       "name                    0\n",
       "chosen_currency    334109\n",
       "dtype: int64"
      ]
     },
     "execution_count": 72,
     "metadata": {},
     "output_type": "execute_result"
    }
   ],
   "source": [
    "creator.isnull().sum()"
   ]
  },
  {
   "cell_type": "code",
   "execution_count": 73,
   "id": "00172c14-db81-4f59-a6c5-885c0a939165",
   "metadata": {},
   "outputs": [],
   "source": [
    "creator.drop('chosen_currency',axis=1,inplace=True)"
   ]
  },
  {
   "cell_type": "code",
   "execution_count": 74,
   "id": "5bf334de-aefe-49d3-b772-1f0a2176bcf3",
   "metadata": {},
   "outputs": [
    {
     "data": {
      "text/html": [
       "<div>\n",
       "<style scoped>\n",
       "    .dataframe tbody tr th:only-of-type {\n",
       "        vertical-align: middle;\n",
       "    }\n",
       "\n",
       "    .dataframe tbody tr th {\n",
       "        vertical-align: top;\n",
       "    }\n",
       "\n",
       "    .dataframe thead th {\n",
       "        text-align: right;\n",
       "    }\n",
       "</style>\n",
       "<table border=\"1\" class=\"dataframe\">\n",
       "  <thead>\n",
       "    <tr style=\"text-align: right;\">\n",
       "      <th></th>\n",
       "      <th>id</th>\n",
       "      <th>name</th>\n",
       "    </tr>\n",
       "  </thead>\n",
       "  <tbody>\n",
       "    <tr>\n",
       "      <th>0</th>\n",
       "      <td>48480</td>\n",
       "      <td>Robert Maehre (deleted)</td>\n",
       "    </tr>\n",
       "    <tr>\n",
       "      <th>1</th>\n",
       "      <td>383340</td>\n",
       "      <td>Holly (deleted)</td>\n",
       "    </tr>\n",
       "    <tr>\n",
       "      <th>2</th>\n",
       "      <td>463486</td>\n",
       "      <td>Robert Deusser</td>\n",
       "    </tr>\n",
       "    <tr>\n",
       "      <th>3</th>\n",
       "      <td>582581</td>\n",
       "      <td>StoryShed Media, Michael Maupin (deleted)</td>\n",
       "    </tr>\n",
       "    <tr>\n",
       "      <th>4</th>\n",
       "      <td>905479</td>\n",
       "      <td>Mason Peterson (deleted)</td>\n",
       "    </tr>\n",
       "  </tbody>\n",
       "</table>\n",
       "</div>"
      ],
      "text/plain": [
       "       id                                       name\n",
       "0   48480                    Robert Maehre (deleted)\n",
       "1  383340                            Holly (deleted)\n",
       "2  463486                             Robert Deusser\n",
       "3  582581  StoryShed Media, Michael Maupin (deleted)\n",
       "4  905479                   Mason Peterson (deleted)"
      ]
     },
     "execution_count": 74,
     "metadata": {},
     "output_type": "execute_result"
    }
   ],
   "source": [
    "creator.head()"
   ]
  },
  {
   "cell_type": "code",
   "execution_count": 75,
   "id": "669a390c-17dd-489a-9329-a1bf663c59d7",
   "metadata": {},
   "outputs": [
    {
     "name": "stdout",
     "output_type": "stream",
     "text": [
      "<class 'pandas.core.frame.DataFrame'>\n",
      "RangeIndex: 334841 entries, 0 to 334840\n",
      "Data columns (total 2 columns):\n",
      " #   Column  Non-Null Count   Dtype \n",
      "---  ------  --------------   ----- \n",
      " 0   id      334841 non-null  int64 \n",
      " 1   name    334841 non-null  object\n",
      "dtypes: int64(1), object(1)\n",
      "memory usage: 5.1+ MB\n"
     ]
    }
   ],
   "source": [
    "creator.info()"
   ]
  },
  {
   "cell_type": "code",
   "execution_count": 76,
   "id": "64d051ca-5cc7-43ce-8feb-929a6387fda1",
   "metadata": {},
   "outputs": [
    {
     "data": {
      "text/plain": [
       "id      0\n",
       "name    0\n",
       "dtype: int64"
      ]
     },
     "execution_count": 76,
     "metadata": {},
     "output_type": "execute_result"
    }
   ],
   "source": [
    "creator.isnull().sum()"
   ]
  },
  {
   "cell_type": "code",
   "execution_count": 77,
   "id": "80cd83cb-4453-4b0b-94f9-d55c79f5ebf5",
   "metadata": {},
   "outputs": [],
   "source": [
    "location=pd.read_csv('D:\\ExcelR\\CrowdFunding Project Files\\CrowdFunding\\Crowdfunding_Location.CSV')"
   ]
  },
  {
   "cell_type": "code",
   "execution_count": 78,
   "id": "3ee7db69-ee79-4e93-8172-63b8884f86a8",
   "metadata": {},
   "outputs": [
    {
     "data": {
      "text/html": [
       "<div>\n",
       "<style scoped>\n",
       "    .dataframe tbody tr th:only-of-type {\n",
       "        vertical-align: middle;\n",
       "    }\n",
       "\n",
       "    .dataframe tbody tr th {\n",
       "        vertical-align: top;\n",
       "    }\n",
       "\n",
       "    .dataframe thead th {\n",
       "        text-align: right;\n",
       "    }\n",
       "</style>\n",
       "<table border=\"1\" class=\"dataframe\">\n",
       "  <thead>\n",
       "    <tr style=\"text-align: right;\">\n",
       "      <th></th>\n",
       "      <th>id</th>\n",
       "      <th>displayable_name</th>\n",
       "      <th>type</th>\n",
       "      <th>name</th>\n",
       "      <th>state</th>\n",
       "      <th>short_name</th>\n",
       "      <th>is_root</th>\n",
       "      <th>country</th>\n",
       "      <th>localized_name</th>\n",
       "    </tr>\n",
       "  </thead>\n",
       "  <tbody>\n",
       "    <tr>\n",
       "      <th>0</th>\n",
       "      <td>2351708</td>\n",
       "      <td>Accord, NY</td>\n",
       "      <td>Town</td>\n",
       "      <td>Accord</td>\n",
       "      <td>NY</td>\n",
       "      <td>Accord, NY</td>\n",
       "      <td>FALSE</td>\n",
       "      <td>US</td>\n",
       "      <td>NaN</td>\n",
       "    </tr>\n",
       "    <tr>\n",
       "      <th>1</th>\n",
       "      <td>2351910</td>\n",
       "      <td>Adams Center, NY</td>\n",
       "      <td>Town</td>\n",
       "      <td>Adams Center</td>\n",
       "      <td>NY</td>\n",
       "      <td>Adams Center, NY</td>\n",
       "      <td>FALSE</td>\n",
       "      <td>US</td>\n",
       "      <td>NaN</td>\n",
       "    </tr>\n",
       "    <tr>\n",
       "      <th>2</th>\n",
       "      <td>2352490</td>\n",
       "      <td>Akron, NY</td>\n",
       "      <td>Town</td>\n",
       "      <td>Akron</td>\n",
       "      <td>NY</td>\n",
       "      <td>Akron, NY</td>\n",
       "      <td>FALSE</td>\n",
       "      <td>US</td>\n",
       "      <td>NaN</td>\n",
       "    </tr>\n",
       "    <tr>\n",
       "      <th>3</th>\n",
       "      <td>2353035</td>\n",
       "      <td>Alexandria Bay, NY</td>\n",
       "      <td>Town</td>\n",
       "      <td>Alexandria Bay</td>\n",
       "      <td>NY</td>\n",
       "      <td>Alexandria Bay, NY</td>\n",
       "      <td>FALSE</td>\n",
       "      <td>US</td>\n",
       "      <td>NaN</td>\n",
       "    </tr>\n",
       "    <tr>\n",
       "      <th>4</th>\n",
       "      <td>2353076</td>\n",
       "      <td>Alfred, NY</td>\n",
       "      <td>Town</td>\n",
       "      <td>Alfred</td>\n",
       "      <td>NY</td>\n",
       "      <td>Alfred, NY</td>\n",
       "      <td>FALSE</td>\n",
       "      <td>US</td>\n",
       "      <td>NaN</td>\n",
       "    </tr>\n",
       "  </tbody>\n",
       "</table>\n",
       "</div>"
      ],
      "text/plain": [
       "        id    displayable_name  type            name state  \\\n",
       "0  2351708          Accord, NY  Town          Accord    NY   \n",
       "1  2351910    Adams Center, NY  Town    Adams Center    NY   \n",
       "2  2352490           Akron, NY  Town           Akron    NY   \n",
       "3  2353035  Alexandria Bay, NY  Town  Alexandria Bay    NY   \n",
       "4  2353076          Alfred, NY  Town          Alfred    NY   \n",
       "\n",
       "           short_name is_root country localized_name  \n",
       "0          Accord, NY   FALSE      US            NaN  \n",
       "1    Adams Center, NY   FALSE      US            NaN  \n",
       "2           Akron, NY   FALSE      US            NaN  \n",
       "3  Alexandria Bay, NY   FALSE      US            NaN  \n",
       "4          Alfred, NY   FALSE      US            NaN  "
      ]
     },
     "execution_count": 78,
     "metadata": {},
     "output_type": "execute_result"
    }
   ],
   "source": [
    "location.head()"
   ]
  },
  {
   "cell_type": "code",
   "execution_count": 79,
   "id": "8479bc0f-fe76-4e6a-adf0-284409f498fc",
   "metadata": {},
   "outputs": [
    {
     "name": "stdout",
     "output_type": "stream",
     "text": [
      "<class 'pandas.core.frame.DataFrame'>\n",
      "RangeIndex: 23252 entries, 0 to 23251\n",
      "Data columns (total 9 columns):\n",
      " #   Column            Non-Null Count  Dtype \n",
      "---  ------            --------------  ----- \n",
      " 0   id                23252 non-null  int64 \n",
      " 1   displayable_name  23252 non-null  object\n",
      " 2   type              23252 non-null  object\n",
      " 3   name              23252 non-null  object\n",
      " 4   state             23225 non-null  object\n",
      " 5   short_name        23252 non-null  object\n",
      " 6   is_root           23252 non-null  object\n",
      " 7   country           23246 non-null  object\n",
      " 8   localized_name    10354 non-null  object\n",
      "dtypes: int64(1), object(8)\n",
      "memory usage: 1.6+ MB\n"
     ]
    }
   ],
   "source": [
    "location.info()"
   ]
  },
  {
   "cell_type": "code",
   "execution_count": 80,
   "id": "993fe87a-16bc-4afb-b6f5-3505839f67cc",
   "metadata": {},
   "outputs": [
    {
     "data": {
      "text/plain": [
       "id                      0\n",
       "displayable_name        0\n",
       "type                    0\n",
       "name                    0\n",
       "state                  27\n",
       "short_name              0\n",
       "is_root                 0\n",
       "country                 6\n",
       "localized_name      12898\n",
       "dtype: int64"
      ]
     },
     "execution_count": 80,
     "metadata": {},
     "output_type": "execute_result"
    }
   ],
   "source": [
    "location.isnull().sum()"
   ]
  },
  {
   "cell_type": "code",
   "execution_count": 81,
   "id": "13da6625-1087-4a45-9248-10b26ceb9a32",
   "metadata": {},
   "outputs": [],
   "source": [
    "location['state']=location['state'].fillna('unknown')"
   ]
  },
  {
   "cell_type": "code",
   "execution_count": 82,
   "id": "7f79173e-eeb7-499f-a377-02e4cff2af2d",
   "metadata": {},
   "outputs": [],
   "source": [
    "location['country']=location['country'].fillna('unknown')"
   ]
  },
  {
   "cell_type": "code",
   "execution_count": 83,
   "id": "faf9d784-0339-4ed2-9259-e2641c2b2569",
   "metadata": {},
   "outputs": [],
   "source": [
    "location.drop('localized_name',axis=1,inplace=True)"
   ]
  },
  {
   "cell_type": "code",
   "execution_count": 84,
   "id": "89df8190-3695-4a8b-b016-64224e8c7d72",
   "metadata": {},
   "outputs": [
    {
     "data": {
      "text/plain": [
       "id                  0\n",
       "displayable_name    0\n",
       "type                0\n",
       "name                0\n",
       "state               0\n",
       "short_name          0\n",
       "is_root             0\n",
       "country             0\n",
       "dtype: int64"
      ]
     },
     "execution_count": 84,
     "metadata": {},
     "output_type": "execute_result"
    }
   ],
   "source": [
    "location.isnull().sum()"
   ]
  },
  {
   "cell_type": "code",
   "execution_count": 85,
   "id": "54c510bd-2f04-4e14-9b8d-f08bdab84f6e",
   "metadata": {},
   "outputs": [
    {
     "data": {
      "text/html": [
       "<div>\n",
       "<style scoped>\n",
       "    .dataframe tbody tr th:only-of-type {\n",
       "        vertical-align: middle;\n",
       "    }\n",
       "\n",
       "    .dataframe tbody tr th {\n",
       "        vertical-align: top;\n",
       "    }\n",
       "\n",
       "    .dataframe thead th {\n",
       "        text-align: right;\n",
       "    }\n",
       "</style>\n",
       "<table border=\"1\" class=\"dataframe\">\n",
       "  <thead>\n",
       "    <tr style=\"text-align: right;\">\n",
       "      <th></th>\n",
       "      <th>id</th>\n",
       "      <th>state</th>\n",
       "      <th>name</th>\n",
       "      <th>country</th>\n",
       "      <th>creator_id</th>\n",
       "      <th>location_id</th>\n",
       "      <th>category_id</th>\n",
       "      <th>created_at</th>\n",
       "      <th>deadline</th>\n",
       "      <th>updated_at</th>\n",
       "      <th>...</th>\n",
       "      <th>currency</th>\n",
       "      <th>currency_symbol</th>\n",
       "      <th>usd_pledged</th>\n",
       "      <th>static_usd_rate</th>\n",
       "      <th>backers_count</th>\n",
       "      <th>spotlight</th>\n",
       "      <th>staff_pick</th>\n",
       "      <th>blurb</th>\n",
       "      <th>currency_trailing_code</th>\n",
       "      <th>disable_communication</th>\n",
       "    </tr>\n",
       "  </thead>\n",
       "  <tbody>\n",
       "    <tr>\n",
       "      <th>0</th>\n",
       "      <td>24080365</td>\n",
       "      <td>failed</td>\n",
       "      <td>Feature Film: The Wolfes</td>\n",
       "      <td>US</td>\n",
       "      <td>1439247114</td>\n",
       "      <td>2488042.0</td>\n",
       "      <td>293</td>\n",
       "      <td>2017-02-01 18:10:39</td>\n",
       "      <td>2017-03-03 20:00:00</td>\n",
       "      <td>2017-03-03 20:00:01</td>\n",
       "      <td>...</td>\n",
       "      <td>USD</td>\n",
       "      <td>$</td>\n",
       "      <td>0.0</td>\n",
       "      <td>1.0</td>\n",
       "      <td>0</td>\n",
       "      <td>FALSE</td>\n",
       "      <td>FALSE</td>\n",
       "      <td>My film is about a boy who discovers the truth...</td>\n",
       "      <td>TRUE</td>\n",
       "      <td>FALSE</td>\n",
       "    </tr>\n",
       "    <tr>\n",
       "      <th>1</th>\n",
       "      <td>27131878</td>\n",
       "      <td>failed</td>\n",
       "      <td>BarBQ 4REAL</td>\n",
       "      <td>US</td>\n",
       "      <td>680525996</td>\n",
       "      <td>2466256.0</td>\n",
       "      <td>10</td>\n",
       "      <td>2015-04-01 00:09:08</td>\n",
       "      <td>2015-05-01 19:08:39</td>\n",
       "      <td>2015-05-01 19:08:40</td>\n",
       "      <td>...</td>\n",
       "      <td>USD</td>\n",
       "      <td>$</td>\n",
       "      <td>0.0</td>\n",
       "      <td>1.0</td>\n",
       "      <td>0</td>\n",
       "      <td>FALSE</td>\n",
       "      <td>FALSE</td>\n",
       "      <td>#Try our BBQ It's 4REAL</td>\n",
       "      <td>TRUE</td>\n",
       "      <td>FALSE</td>\n",
       "    </tr>\n",
       "    <tr>\n",
       "      <th>2</th>\n",
       "      <td>30525634</td>\n",
       "      <td>failed</td>\n",
       "      <td>Down on the Street</td>\n",
       "      <td>US</td>\n",
       "      <td>222229854</td>\n",
       "      <td>2458410.0</td>\n",
       "      <td>276</td>\n",
       "      <td>2016-03-08 23:28:16</td>\n",
       "      <td>2016-04-08 00:05:15</td>\n",
       "      <td>2016-04-08 00:05:15</td>\n",
       "      <td>...</td>\n",
       "      <td>USD</td>\n",
       "      <td>$</td>\n",
       "      <td>0.0</td>\n",
       "      <td>1.0</td>\n",
       "      <td>0</td>\n",
       "      <td>FALSE</td>\n",
       "      <td>FALSE</td>\n",
       "      <td>Welcome to Down on the Street. A proposed exhi...</td>\n",
       "      <td>TRUE</td>\n",
       "      <td>FALSE</td>\n",
       "    </tr>\n",
       "    <tr>\n",
       "      <th>3</th>\n",
       "      <td>31977817</td>\n",
       "      <td>failed</td>\n",
       "      <td>Descent into Madness-Stream of Conscious Endur...</td>\n",
       "      <td>US</td>\n",
       "      <td>1978657574</td>\n",
       "      <td>2523194.0</td>\n",
       "      <td>48</td>\n",
       "      <td>2012-07-25 21:47:22</td>\n",
       "      <td>2012-08-30 16:02:44</td>\n",
       "      <td>2014-04-18 03:21:57</td>\n",
       "      <td>...</td>\n",
       "      <td>USD</td>\n",
       "      <td>$</td>\n",
       "      <td>0.0</td>\n",
       "      <td>1.0</td>\n",
       "      <td>0</td>\n",
       "      <td>FALSE</td>\n",
       "      <td>FALSE</td>\n",
       "      <td>Endurance writing for 72 hours, watch an autho...</td>\n",
       "      <td>TRUE</td>\n",
       "      <td>FALSE</td>\n",
       "    </tr>\n",
       "    <tr>\n",
       "      <th>4</th>\n",
       "      <td>33517733</td>\n",
       "      <td>failed</td>\n",
       "      <td>Help us add more content and deliver it faster!</td>\n",
       "      <td>US</td>\n",
       "      <td>1016683395</td>\n",
       "      <td>2433227.0</td>\n",
       "      <td>18</td>\n",
       "      <td>2015-03-31 13:23:34</td>\n",
       "      <td>2015-04-10 14:29:42</td>\n",
       "      <td>2015-04-10 14:30:19</td>\n",
       "      <td>...</td>\n",
       "      <td>USD</td>\n",
       "      <td>$</td>\n",
       "      <td>0.0</td>\n",
       "      <td>1.0</td>\n",
       "      <td>0</td>\n",
       "      <td>FALSE</td>\n",
       "      <td>FALSE</td>\n",
       "      <td>We need to upgrade our technology to create a ...</td>\n",
       "      <td>TRUE</td>\n",
       "      <td>FALSE</td>\n",
       "    </tr>\n",
       "  </tbody>\n",
       "</table>\n",
       "<p>5 rows × 25 columns</p>\n",
       "</div>"
      ],
      "text/plain": [
       "         id   state                                               name  \\\n",
       "0  24080365  failed                           Feature Film: The Wolfes   \n",
       "1  27131878  failed                                        BarBQ 4REAL   \n",
       "2  30525634  failed                                 Down on the Street   \n",
       "3  31977817  failed  Descent into Madness-Stream of Conscious Endur...   \n",
       "4  33517733  failed    Help us add more content and deliver it faster!   \n",
       "\n",
       "  country  creator_id  location_id  category_id          created_at  \\\n",
       "0      US  1439247114    2488042.0          293 2017-02-01 18:10:39   \n",
       "1      US   680525996    2466256.0           10 2015-04-01 00:09:08   \n",
       "2      US   222229854    2458410.0          276 2016-03-08 23:28:16   \n",
       "3      US  1978657574    2523194.0           48 2012-07-25 21:47:22   \n",
       "4      US  1016683395    2433227.0           18 2015-03-31 13:23:34   \n",
       "\n",
       "             deadline          updated_at  ... currency currency_symbol  \\\n",
       "0 2017-03-03 20:00:00 2017-03-03 20:00:01  ...      USD               $   \n",
       "1 2015-05-01 19:08:39 2015-05-01 19:08:40  ...      USD               $   \n",
       "2 2016-04-08 00:05:15 2016-04-08 00:05:15  ...      USD               $   \n",
       "3 2012-08-30 16:02:44 2014-04-18 03:21:57  ...      USD               $   \n",
       "4 2015-04-10 14:29:42 2015-04-10 14:30:19  ...      USD               $   \n",
       "\n",
       "  usd_pledged  static_usd_rate  backers_count spotlight staff_pick  \\\n",
       "0         0.0              1.0              0     FALSE      FALSE   \n",
       "1         0.0              1.0              0     FALSE      FALSE   \n",
       "2         0.0              1.0              0     FALSE      FALSE   \n",
       "3         0.0              1.0              0     FALSE      FALSE   \n",
       "4         0.0              1.0              0     FALSE      FALSE   \n",
       "\n",
       "                                               blurb  currency_trailing_code  \\\n",
       "0  My film is about a boy who discovers the truth...                    TRUE   \n",
       "1                            #Try our BBQ It's 4REAL                    TRUE   \n",
       "2  Welcome to Down on the Street. A proposed exhi...                    TRUE   \n",
       "3  Endurance writing for 72 hours, watch an autho...                    TRUE   \n",
       "4  We need to upgrade our technology to create a ...                    TRUE   \n",
       "\n",
       "   disable_communication  \n",
       "0                  FALSE  \n",
       "1                  FALSE  \n",
       "2                  FALSE  \n",
       "3                  FALSE  \n",
       "4                  FALSE  \n",
       "\n",
       "[5 rows x 25 columns]"
      ]
     },
     "execution_count": 85,
     "metadata": {},
     "output_type": "execute_result"
    }
   ],
   "source": [
    "crowdfunding.head()"
   ]
  },
  {
   "cell_type": "code",
   "execution_count": 86,
   "id": "d4bcd30b-eb00-4543-a79f-8045f98e59bc",
   "metadata": {},
   "outputs": [
    {
     "data": {
      "text/html": [
       "<div>\n",
       "<style scoped>\n",
       "    .dataframe tbody tr th:only-of-type {\n",
       "        vertical-align: middle;\n",
       "    }\n",
       "\n",
       "    .dataframe tbody tr th {\n",
       "        vertical-align: top;\n",
       "    }\n",
       "\n",
       "    .dataframe thead th {\n",
       "        text-align: right;\n",
       "    }\n",
       "</style>\n",
       "<table border=\"1\" class=\"dataframe\">\n",
       "  <thead>\n",
       "    <tr style=\"text-align: right;\">\n",
       "      <th></th>\n",
       "      <th>id</th>\n",
       "      <th>name</th>\n",
       "      <th>parent_id</th>\n",
       "      <th>position</th>\n",
       "    </tr>\n",
       "  </thead>\n",
       "  <tbody>\n",
       "    <tr>\n",
       "      <th>0</th>\n",
       "      <td>354</td>\n",
       "      <td>Taxidermy</td>\n",
       "      <td>26.0</td>\n",
       "      <td>12</td>\n",
       "    </tr>\n",
       "    <tr>\n",
       "      <th>1</th>\n",
       "      <td>347</td>\n",
       "      <td>Glass</td>\n",
       "      <td>26.0</td>\n",
       "      <td>5</td>\n",
       "    </tr>\n",
       "    <tr>\n",
       "      <th>2</th>\n",
       "      <td>352</td>\n",
       "      <td>Quilts</td>\n",
       "      <td>26.0</td>\n",
       "      <td>10</td>\n",
       "    </tr>\n",
       "    <tr>\n",
       "      <th>3</th>\n",
       "      <td>336</td>\n",
       "      <td>Flight</td>\n",
       "      <td>16.0</td>\n",
       "      <td>6</td>\n",
       "    </tr>\n",
       "    <tr>\n",
       "      <th>4</th>\n",
       "      <td>255</td>\n",
       "      <td>Residencies</td>\n",
       "      <td>6.0</td>\n",
       "      <td>2</td>\n",
       "    </tr>\n",
       "  </tbody>\n",
       "</table>\n",
       "</div>"
      ],
      "text/plain": [
       "    id         name  parent_id  position\n",
       "0  354    Taxidermy       26.0        12\n",
       "1  347        Glass       26.0         5\n",
       "2  352       Quilts       26.0        10\n",
       "3  336       Flight       16.0         6\n",
       "4  255  Residencies        6.0         2"
      ]
     },
     "execution_count": 86,
     "metadata": {},
     "output_type": "execute_result"
    }
   ],
   "source": [
    "category.head()"
   ]
  },
  {
   "cell_type": "code",
   "execution_count": 87,
   "id": "847ac9e3-acd0-4ba5-b13f-4dd688dc9b42",
   "metadata": {},
   "outputs": [
    {
     "data": {
      "text/html": [
       "<div>\n",
       "<style scoped>\n",
       "    .dataframe tbody tr th:only-of-type {\n",
       "        vertical-align: middle;\n",
       "    }\n",
       "\n",
       "    .dataframe tbody tr th {\n",
       "        vertical-align: top;\n",
       "    }\n",
       "\n",
       "    .dataframe thead th {\n",
       "        text-align: right;\n",
       "    }\n",
       "</style>\n",
       "<table border=\"1\" class=\"dataframe\">\n",
       "  <thead>\n",
       "    <tr style=\"text-align: right;\">\n",
       "      <th></th>\n",
       "      <th>id</th>\n",
       "      <th>displayable_name</th>\n",
       "      <th>type</th>\n",
       "      <th>name</th>\n",
       "      <th>state</th>\n",
       "      <th>short_name</th>\n",
       "      <th>is_root</th>\n",
       "      <th>country</th>\n",
       "    </tr>\n",
       "  </thead>\n",
       "  <tbody>\n",
       "    <tr>\n",
       "      <th>0</th>\n",
       "      <td>2351708</td>\n",
       "      <td>Accord, NY</td>\n",
       "      <td>Town</td>\n",
       "      <td>Accord</td>\n",
       "      <td>NY</td>\n",
       "      <td>Accord, NY</td>\n",
       "      <td>FALSE</td>\n",
       "      <td>US</td>\n",
       "    </tr>\n",
       "    <tr>\n",
       "      <th>1</th>\n",
       "      <td>2351910</td>\n",
       "      <td>Adams Center, NY</td>\n",
       "      <td>Town</td>\n",
       "      <td>Adams Center</td>\n",
       "      <td>NY</td>\n",
       "      <td>Adams Center, NY</td>\n",
       "      <td>FALSE</td>\n",
       "      <td>US</td>\n",
       "    </tr>\n",
       "    <tr>\n",
       "      <th>2</th>\n",
       "      <td>2352490</td>\n",
       "      <td>Akron, NY</td>\n",
       "      <td>Town</td>\n",
       "      <td>Akron</td>\n",
       "      <td>NY</td>\n",
       "      <td>Akron, NY</td>\n",
       "      <td>FALSE</td>\n",
       "      <td>US</td>\n",
       "    </tr>\n",
       "    <tr>\n",
       "      <th>3</th>\n",
       "      <td>2353035</td>\n",
       "      <td>Alexandria Bay, NY</td>\n",
       "      <td>Town</td>\n",
       "      <td>Alexandria Bay</td>\n",
       "      <td>NY</td>\n",
       "      <td>Alexandria Bay, NY</td>\n",
       "      <td>FALSE</td>\n",
       "      <td>US</td>\n",
       "    </tr>\n",
       "    <tr>\n",
       "      <th>4</th>\n",
       "      <td>2353076</td>\n",
       "      <td>Alfred, NY</td>\n",
       "      <td>Town</td>\n",
       "      <td>Alfred</td>\n",
       "      <td>NY</td>\n",
       "      <td>Alfred, NY</td>\n",
       "      <td>FALSE</td>\n",
       "      <td>US</td>\n",
       "    </tr>\n",
       "  </tbody>\n",
       "</table>\n",
       "</div>"
      ],
      "text/plain": [
       "        id    displayable_name  type            name state  \\\n",
       "0  2351708          Accord, NY  Town          Accord    NY   \n",
       "1  2351910    Adams Center, NY  Town    Adams Center    NY   \n",
       "2  2352490           Akron, NY  Town           Akron    NY   \n",
       "3  2353035  Alexandria Bay, NY  Town  Alexandria Bay    NY   \n",
       "4  2353076          Alfred, NY  Town          Alfred    NY   \n",
       "\n",
       "           short_name is_root country  \n",
       "0          Accord, NY   FALSE      US  \n",
       "1    Adams Center, NY   FALSE      US  \n",
       "2           Akron, NY   FALSE      US  \n",
       "3  Alexandria Bay, NY   FALSE      US  \n",
       "4          Alfred, NY   FALSE      US  "
      ]
     },
     "execution_count": 87,
     "metadata": {},
     "output_type": "execute_result"
    }
   ],
   "source": [
    "location.head()"
   ]
  },
  {
   "cell_type": "code",
   "execution_count": 88,
   "id": "e73f646d-55c4-43b0-9996-cea2abef2ad7",
   "metadata": {},
   "outputs": [
    {
     "data": {
      "text/html": [
       "<div>\n",
       "<style scoped>\n",
       "    .dataframe tbody tr th:only-of-type {\n",
       "        vertical-align: middle;\n",
       "    }\n",
       "\n",
       "    .dataframe tbody tr th {\n",
       "        vertical-align: top;\n",
       "    }\n",
       "\n",
       "    .dataframe thead th {\n",
       "        text-align: right;\n",
       "    }\n",
       "</style>\n",
       "<table border=\"1\" class=\"dataframe\">\n",
       "  <thead>\n",
       "    <tr style=\"text-align: right;\">\n",
       "      <th></th>\n",
       "      <th>id</th>\n",
       "      <th>name</th>\n",
       "    </tr>\n",
       "  </thead>\n",
       "  <tbody>\n",
       "    <tr>\n",
       "      <th>0</th>\n",
       "      <td>48480</td>\n",
       "      <td>Robert Maehre (deleted)</td>\n",
       "    </tr>\n",
       "    <tr>\n",
       "      <th>1</th>\n",
       "      <td>383340</td>\n",
       "      <td>Holly (deleted)</td>\n",
       "    </tr>\n",
       "    <tr>\n",
       "      <th>2</th>\n",
       "      <td>463486</td>\n",
       "      <td>Robert Deusser</td>\n",
       "    </tr>\n",
       "    <tr>\n",
       "      <th>3</th>\n",
       "      <td>582581</td>\n",
       "      <td>StoryShed Media, Michael Maupin (deleted)</td>\n",
       "    </tr>\n",
       "    <tr>\n",
       "      <th>4</th>\n",
       "      <td>905479</td>\n",
       "      <td>Mason Peterson (deleted)</td>\n",
       "    </tr>\n",
       "  </tbody>\n",
       "</table>\n",
       "</div>"
      ],
      "text/plain": [
       "       id                                       name\n",
       "0   48480                    Robert Maehre (deleted)\n",
       "1  383340                            Holly (deleted)\n",
       "2  463486                             Robert Deusser\n",
       "3  582581  StoryShed Media, Michael Maupin (deleted)\n",
       "4  905479                   Mason Peterson (deleted)"
      ]
     },
     "execution_count": 88,
     "metadata": {},
     "output_type": "execute_result"
    }
   ],
   "source": [
    "creator.head()"
   ]
  },
  {
   "cell_type": "code",
   "execution_count": 89,
   "id": "0e18c926-076c-4951-b8bf-c0e98dd14c7a",
   "metadata": {},
   "outputs": [
    {
     "data": {
      "text/plain": [
       "['id',\n",
       " 'state',\n",
       " 'name',\n",
       " 'country',\n",
       " 'creator_id',\n",
       " 'location_id',\n",
       " 'category_id',\n",
       " 'created_at',\n",
       " 'deadline',\n",
       " 'updated_at',\n",
       " 'state_changed_at',\n",
       " 'successful_at',\n",
       " 'launched_at',\n",
       " 'goal',\n",
       " 'pledged',\n",
       " 'currency',\n",
       " 'currency_symbol',\n",
       " 'usd_pledged',\n",
       " 'static_usd_rate',\n",
       " 'backers_count',\n",
       " 'spotlight',\n",
       " 'staff_pick',\n",
       " 'blurb',\n",
       " 'currency_trailing_code',\n",
       " 'disable_communication']"
      ]
     },
     "execution_count": 89,
     "metadata": {},
     "output_type": "execute_result"
    }
   ],
   "source": [
    "list(crowdfunding.columns)"
   ]
  },
  {
   "cell_type": "code",
   "execution_count": 90,
   "id": "7ccab225-821b-4469-b5fb-6388b9cb3723",
   "metadata": {},
   "outputs": [],
   "source": [
    "df=crowdfunding.merge(category,left_on='category_id',right_on='id',how='left')"
   ]
  },
  {
   "cell_type": "code",
   "execution_count": 91,
   "id": "36cd3cc9-814f-43e0-8f1e-bc358812e7d3",
   "metadata": {},
   "outputs": [],
   "source": [
    "df=df.merge(creator,left_on='creator_id',right_on='id',how='left')"
   ]
  },
  {
   "cell_type": "code",
   "execution_count": 92,
   "id": "ab666392-f83b-4170-bc80-99844558887e",
   "metadata": {},
   "outputs": [],
   "source": [
    "df=df.merge(location,left_on='location_id',right_on='id',how='left',suffixes=('', '_loc'))"
   ]
  },
  {
   "cell_type": "code",
   "execution_count": 93,
   "id": "f8a93c0b-0c20-4a50-97df-641c5dcb058a",
   "metadata": {},
   "outputs": [
    {
     "name": "stdout",
     "output_type": "stream",
     "text": [
      "<class 'pandas.core.frame.DataFrame'>\n",
      "RangeIndex: 365892 entries, 0 to 365891\n",
      "Data columns (total 39 columns):\n",
      " #   Column                  Non-Null Count   Dtype         \n",
      "---  ------                  --------------   -----         \n",
      " 0   id_x                    365892 non-null  int64         \n",
      " 1   state                   365892 non-null  object        \n",
      " 2   name_x                  365892 non-null  object        \n",
      " 3   country                 365892 non-null  object        \n",
      " 4   creator_id              365892 non-null  int64         \n",
      " 5   location_id             365892 non-null  float64       \n",
      " 6   category_id             365892 non-null  int64         \n",
      " 7   created_at              365892 non-null  datetime64[ns]\n",
      " 8   deadline                365892 non-null  datetime64[ns]\n",
      " 9   updated_at              365892 non-null  datetime64[ns]\n",
      " 10  state_changed_at        365892 non-null  datetime64[ns]\n",
      " 11  successful_at           365892 non-null  object        \n",
      " 12  launched_at             365892 non-null  datetime64[ns]\n",
      " 13  goal                    365892 non-null  float64       \n",
      " 14  pledged                 365892 non-null  float64       \n",
      " 15  currency                365892 non-null  object        \n",
      " 16  currency_symbol         365892 non-null  object        \n",
      " 17  usd_pledged             365892 non-null  float64       \n",
      " 18  static_usd_rate         365892 non-null  float64       \n",
      " 19  backers_count           365892 non-null  int64         \n",
      " 20  spotlight               365892 non-null  object        \n",
      " 21  staff_pick              365892 non-null  object        \n",
      " 22  blurb                   365892 non-null  object        \n",
      " 23  currency_trailing_code  365892 non-null  object        \n",
      " 24  disable_communication   365892 non-null  object        \n",
      " 25  id_y                    365892 non-null  int64         \n",
      " 26  name_y                  365892 non-null  object        \n",
      " 27  parent_id               365892 non-null  float64       \n",
      " 28  position                365892 non-null  int64         \n",
      " 29  id                      365892 non-null  int64         \n",
      " 30  name                    365892 non-null  object        \n",
      " 31  id_loc                  364378 non-null  float64       \n",
      " 32  displayable_name        364378 non-null  object        \n",
      " 33  type                    364378 non-null  object        \n",
      " 34  name_loc                364378 non-null  object        \n",
      " 35  state_loc               364378 non-null  object        \n",
      " 36  short_name              364378 non-null  object        \n",
      " 37  is_root                 364378 non-null  object        \n",
      " 38  country_loc             364378 non-null  object        \n",
      "dtypes: datetime64[ns](5), float64(7), int64(7), object(20)\n",
      "memory usage: 108.9+ MB\n"
     ]
    }
   ],
   "source": [
    "df.info()"
   ]
  },
  {
   "cell_type": "code",
   "execution_count": 94,
   "id": "d74c9391-2f84-4279-8681-4600a7849639",
   "metadata": {},
   "outputs": [],
   "source": [
    "df = df.rename(columns={\n",
    "    'id_x': 'project_id',\n",
    "    'name_x': 'project_name',\n",
    "    'id_y': 'category_id',\n",
    "    'name_y': 'category_name',\n",
    "    'id': 'creator_id_main',\n",
    "    'name': 'creator_name',\n",
    "    'id_loc': 'location_id_main',\n",
    "    'name_loc': 'location_name',\n",
    "    'state_loc': 'location_state',\n",
    "    'country_loc': 'location_country'\n",
    "})"
   ]
  },
  {
   "cell_type": "code",
   "execution_count": 95,
   "id": "537bf528-7b87-40ab-9d6c-d8cb2786d091",
   "metadata": {},
   "outputs": [
    {
     "name": "stdout",
     "output_type": "stream",
     "text": [
      "<class 'pandas.core.frame.DataFrame'>\n",
      "RangeIndex: 365892 entries, 0 to 365891\n",
      "Data columns (total 39 columns):\n",
      " #   Column                  Non-Null Count   Dtype         \n",
      "---  ------                  --------------   -----         \n",
      " 0   project_id              365892 non-null  int64         \n",
      " 1   state                   365892 non-null  object        \n",
      " 2   project_name            365892 non-null  object        \n",
      " 3   country                 365892 non-null  object        \n",
      " 4   creator_id              365892 non-null  int64         \n",
      " 5   location_id             365892 non-null  float64       \n",
      " 6   category_id             365892 non-null  int64         \n",
      " 7   created_at              365892 non-null  datetime64[ns]\n",
      " 8   deadline                365892 non-null  datetime64[ns]\n",
      " 9   updated_at              365892 non-null  datetime64[ns]\n",
      " 10  state_changed_at        365892 non-null  datetime64[ns]\n",
      " 11  successful_at           365892 non-null  object        \n",
      " 12  launched_at             365892 non-null  datetime64[ns]\n",
      " 13  goal                    365892 non-null  float64       \n",
      " 14  pledged                 365892 non-null  float64       \n",
      " 15  currency                365892 non-null  object        \n",
      " 16  currency_symbol         365892 non-null  object        \n",
      " 17  usd_pledged             365892 non-null  float64       \n",
      " 18  static_usd_rate         365892 non-null  float64       \n",
      " 19  backers_count           365892 non-null  int64         \n",
      " 20  spotlight               365892 non-null  object        \n",
      " 21  staff_pick              365892 non-null  object        \n",
      " 22  blurb                   365892 non-null  object        \n",
      " 23  currency_trailing_code  365892 non-null  object        \n",
      " 24  disable_communication   365892 non-null  object        \n",
      " 25  category_id             365892 non-null  int64         \n",
      " 26  category_name           365892 non-null  object        \n",
      " 27  parent_id               365892 non-null  float64       \n",
      " 28  position                365892 non-null  int64         \n",
      " 29  creator_id_main         365892 non-null  int64         \n",
      " 30  creator_name            365892 non-null  object        \n",
      " 31  location_id_main        364378 non-null  float64       \n",
      " 32  displayable_name        364378 non-null  object        \n",
      " 33  type                    364378 non-null  object        \n",
      " 34  location_name           364378 non-null  object        \n",
      " 35  location_state          364378 non-null  object        \n",
      " 36  short_name              364378 non-null  object        \n",
      " 37  is_root                 364378 non-null  object        \n",
      " 38  location_country        364378 non-null  object        \n",
      "dtypes: datetime64[ns](5), float64(7), int64(7), object(20)\n",
      "memory usage: 108.9+ MB\n"
     ]
    }
   ],
   "source": [
    "df.info()"
   ]
  },
  {
   "cell_type": "code",
   "execution_count": 96,
   "id": "36e99b2b-2957-4b44-8da1-b648a664ee3c",
   "metadata": {},
   "outputs": [
    {
     "data": {
      "text/html": [
       "<div>\n",
       "<style scoped>\n",
       "    .dataframe tbody tr th:only-of-type {\n",
       "        vertical-align: middle;\n",
       "    }\n",
       "\n",
       "    .dataframe tbody tr th {\n",
       "        vertical-align: top;\n",
       "    }\n",
       "\n",
       "    .dataframe thead th {\n",
       "        text-align: right;\n",
       "    }\n",
       "</style>\n",
       "<table border=\"1\" class=\"dataframe\">\n",
       "  <thead>\n",
       "    <tr style=\"text-align: right;\">\n",
       "      <th></th>\n",
       "      <th>project_id</th>\n",
       "      <th>state</th>\n",
       "      <th>project_name</th>\n",
       "      <th>country</th>\n",
       "      <th>creator_id</th>\n",
       "      <th>location_id</th>\n",
       "      <th>category_id</th>\n",
       "      <th>created_at</th>\n",
       "      <th>deadline</th>\n",
       "      <th>updated_at</th>\n",
       "      <th>...</th>\n",
       "      <th>creator_id_main</th>\n",
       "      <th>creator_name</th>\n",
       "      <th>location_id_main</th>\n",
       "      <th>displayable_name</th>\n",
       "      <th>type</th>\n",
       "      <th>location_name</th>\n",
       "      <th>location_state</th>\n",
       "      <th>short_name</th>\n",
       "      <th>is_root</th>\n",
       "      <th>location_country</th>\n",
       "    </tr>\n",
       "  </thead>\n",
       "  <tbody>\n",
       "    <tr>\n",
       "      <th>0</th>\n",
       "      <td>24080365</td>\n",
       "      <td>failed</td>\n",
       "      <td>Feature Film: The Wolfes</td>\n",
       "      <td>US</td>\n",
       "      <td>1439247114</td>\n",
       "      <td>2488042.0</td>\n",
       "      <td>293</td>\n",
       "      <td>2017-02-01 18:10:39</td>\n",
       "      <td>2017-03-03 20:00:00</td>\n",
       "      <td>2017-03-03 20:00:01</td>\n",
       "      <td>...</td>\n",
       "      <td>1439247114</td>\n",
       "      <td>Nicholas Hogle</td>\n",
       "      <td>2488042.0</td>\n",
       "      <td>San Jose, CA</td>\n",
       "      <td>Town</td>\n",
       "      <td>San Jose</td>\n",
       "      <td>CA</td>\n",
       "      <td>San Jose, CA</td>\n",
       "      <td>0</td>\n",
       "      <td>US</td>\n",
       "    </tr>\n",
       "    <tr>\n",
       "      <th>1</th>\n",
       "      <td>27131878</td>\n",
       "      <td>failed</td>\n",
       "      <td>BarBQ 4REAL</td>\n",
       "      <td>US</td>\n",
       "      <td>680525996</td>\n",
       "      <td>2466256.0</td>\n",
       "      <td>10</td>\n",
       "      <td>2015-04-01 00:09:08</td>\n",
       "      <td>2015-05-01 19:08:39</td>\n",
       "      <td>2015-05-01 19:08:40</td>\n",
       "      <td>...</td>\n",
       "      <td>680525996</td>\n",
       "      <td>john Stephens</td>\n",
       "      <td>2466256.0</td>\n",
       "      <td>Orlando, FL</td>\n",
       "      <td>Town</td>\n",
       "      <td>Orlando</td>\n",
       "      <td>FL</td>\n",
       "      <td>Orlando, FL</td>\n",
       "      <td>0</td>\n",
       "      <td>US</td>\n",
       "    </tr>\n",
       "  </tbody>\n",
       "</table>\n",
       "<p>2 rows × 39 columns</p>\n",
       "</div>"
      ],
      "text/plain": [
       "   project_id   state              project_name country  creator_id  \\\n",
       "0    24080365  failed  Feature Film: The Wolfes      US  1439247114   \n",
       "1    27131878  failed               BarBQ 4REAL      US   680525996   \n",
       "\n",
       "   location_id  category_id          created_at            deadline  \\\n",
       "0    2488042.0          293 2017-02-01 18:10:39 2017-03-03 20:00:00   \n",
       "1    2466256.0           10 2015-04-01 00:09:08 2015-05-01 19:08:39   \n",
       "\n",
       "           updated_at  ... creator_id_main    creator_name location_id_main  \\\n",
       "0 2017-03-03 20:00:01  ...      1439247114  Nicholas Hogle        2488042.0   \n",
       "1 2015-05-01 19:08:40  ...       680525996   john Stephens        2466256.0   \n",
       "\n",
       "   displayable_name  type location_name location_state    short_name  is_root  \\\n",
       "0      San Jose, CA  Town      San Jose             CA  San Jose, CA        0   \n",
       "1       Orlando, FL  Town       Orlando             FL   Orlando, FL        0   \n",
       "\n",
       "   location_country  \n",
       "0                US  \n",
       "1                US  \n",
       "\n",
       "[2 rows x 39 columns]"
      ]
     },
     "execution_count": 96,
     "metadata": {},
     "output_type": "execute_result"
    }
   ],
   "source": [
    "df.head(2)"
   ]
  },
  {
   "cell_type": "code",
   "execution_count": 97,
   "id": "feec8a5c-7868-407a-98e8-2201b3f299a3",
   "metadata": {},
   "outputs": [
    {
     "data": {
      "text/plain": [
       "state\n",
       "failed        188239\n",
       "successful    140313\n",
       "canceled       32498\n",
       "live            3163\n",
       "suspended       1501\n",
       "purged           178\n",
       "Name: count, dtype: int64"
      ]
     },
     "execution_count": 97,
     "metadata": {},
     "output_type": "execute_result"
    }
   ],
   "source": [
    "df['state'].value_counts()"
   ]
  },
  {
   "cell_type": "code",
   "execution_count": 98,
   "id": "b1c2e534-3777-454f-85db-1058929a1c40",
   "metadata": {},
   "outputs": [
    {
     "data": {
      "text/plain": [
       "country\n",
       "US    278524\n",
       "GB     34074\n",
       "CA     14774\n",
       "AU      7757\n",
       "DE      4714\n",
       "FR      3532\n",
       "IT      3374\n",
       "NL      2836\n",
       "ES      2737\n",
       "MX      2677\n",
       "SE      1905\n",
       "NZ      1454\n",
       "HK      1227\n",
       "DK      1173\n",
       "SG       895\n",
       "CH       883\n",
       "IE       877\n",
       "BE       724\n",
       "AT       697\n",
       "NO       682\n",
       "JP       308\n",
       "LU        68\n",
       "Name: count, dtype: int64"
      ]
     },
     "execution_count": 98,
     "metadata": {},
     "output_type": "execute_result"
    }
   ],
   "source": [
    "df['country'].value_counts()"
   ]
  },
  {
   "cell_type": "code",
   "execution_count": 99,
   "id": "478866fb-33d2-4ac4-afda-aa2bc0a18c23",
   "metadata": {},
   "outputs": [
    {
     "name": "stdout",
     "output_type": "stream",
     "text": [
      "<class 'pandas.core.frame.DataFrame'>\n",
      "RangeIndex: 365892 entries, 0 to 365891\n",
      "Data columns (total 39 columns):\n",
      " #   Column                  Non-Null Count   Dtype         \n",
      "---  ------                  --------------   -----         \n",
      " 0   project_id              365892 non-null  int64         \n",
      " 1   state                   365892 non-null  object        \n",
      " 2   project_name            365892 non-null  object        \n",
      " 3   country                 365892 non-null  object        \n",
      " 4   creator_id              365892 non-null  int64         \n",
      " 5   location_id             365892 non-null  float64       \n",
      " 6   category_id             365892 non-null  int64         \n",
      " 7   created_at              365892 non-null  datetime64[ns]\n",
      " 8   deadline                365892 non-null  datetime64[ns]\n",
      " 9   updated_at              365892 non-null  datetime64[ns]\n",
      " 10  state_changed_at        365892 non-null  datetime64[ns]\n",
      " 11  successful_at           365892 non-null  object        \n",
      " 12  launched_at             365892 non-null  datetime64[ns]\n",
      " 13  goal                    365892 non-null  float64       \n",
      " 14  pledged                 365892 non-null  float64       \n",
      " 15  currency                365892 non-null  object        \n",
      " 16  currency_symbol         365892 non-null  object        \n",
      " 17  usd_pledged             365892 non-null  float64       \n",
      " 18  static_usd_rate         365892 non-null  float64       \n",
      " 19  backers_count           365892 non-null  int64         \n",
      " 20  spotlight               365892 non-null  object        \n",
      " 21  staff_pick              365892 non-null  object        \n",
      " 22  blurb                   365892 non-null  object        \n",
      " 23  currency_trailing_code  365892 non-null  object        \n",
      " 24  disable_communication   365892 non-null  object        \n",
      " 25  category_id             365892 non-null  int64         \n",
      " 26  category_name           365892 non-null  object        \n",
      " 27  parent_id               365892 non-null  float64       \n",
      " 28  position                365892 non-null  int64         \n",
      " 29  creator_id_main         365892 non-null  int64         \n",
      " 30  creator_name            365892 non-null  object        \n",
      " 31  location_id_main        364378 non-null  float64       \n",
      " 32  displayable_name        364378 non-null  object        \n",
      " 33  type                    364378 non-null  object        \n",
      " 34  location_name           364378 non-null  object        \n",
      " 35  location_state          364378 non-null  object        \n",
      " 36  short_name              364378 non-null  object        \n",
      " 37  is_root                 364378 non-null  object        \n",
      " 38  location_country        364378 non-null  object        \n",
      "dtypes: datetime64[ns](5), float64(7), int64(7), object(20)\n",
      "memory usage: 108.9+ MB\n"
     ]
    }
   ],
   "source": [
    "df.info()"
   ]
  },
  {
   "cell_type": "code",
   "execution_count": 100,
   "id": "e4d1117e-bb5e-41d0-894d-cf9872b0567e",
   "metadata": {},
   "outputs": [
    {
     "data": {
      "text/html": [
       "<div>\n",
       "<style scoped>\n",
       "    .dataframe tbody tr th:only-of-type {\n",
       "        vertical-align: middle;\n",
       "    }\n",
       "\n",
       "    .dataframe tbody tr th {\n",
       "        vertical-align: top;\n",
       "    }\n",
       "\n",
       "    .dataframe thead th {\n",
       "        text-align: right;\n",
       "    }\n",
       "</style>\n",
       "<table border=\"1\" class=\"dataframe\">\n",
       "  <thead>\n",
       "    <tr style=\"text-align: right;\">\n",
       "      <th></th>\n",
       "      <th>project_id</th>\n",
       "      <th>state</th>\n",
       "      <th>project_name</th>\n",
       "      <th>country</th>\n",
       "      <th>creator_id</th>\n",
       "      <th>location_id</th>\n",
       "      <th>category_id</th>\n",
       "      <th>created_at</th>\n",
       "      <th>deadline</th>\n",
       "      <th>updated_at</th>\n",
       "      <th>...</th>\n",
       "      <th>creator_id_main</th>\n",
       "      <th>creator_name</th>\n",
       "      <th>location_id_main</th>\n",
       "      <th>displayable_name</th>\n",
       "      <th>type</th>\n",
       "      <th>location_name</th>\n",
       "      <th>location_state</th>\n",
       "      <th>short_name</th>\n",
       "      <th>is_root</th>\n",
       "      <th>location_country</th>\n",
       "    </tr>\n",
       "  </thead>\n",
       "  <tbody>\n",
       "    <tr>\n",
       "      <th>count</th>\n",
       "      <td>3.658920e+05</td>\n",
       "      <td>365892</td>\n",
       "      <td>365892</td>\n",
       "      <td>365892</td>\n",
       "      <td>3.658920e+05</td>\n",
       "      <td>3.658920e+05</td>\n",
       "      <td>365892.000000</td>\n",
       "      <td>365892</td>\n",
       "      <td>365892</td>\n",
       "      <td>365892</td>\n",
       "      <td>...</td>\n",
       "      <td>3.658920e+05</td>\n",
       "      <td>365892</td>\n",
       "      <td>3.643780e+05</td>\n",
       "      <td>364378</td>\n",
       "      <td>364378</td>\n",
       "      <td>364378</td>\n",
       "      <td>364378</td>\n",
       "      <td>364378</td>\n",
       "      <td>364378</td>\n",
       "      <td>364378</td>\n",
       "    </tr>\n",
       "    <tr>\n",
       "      <th>unique</th>\n",
       "      <td>NaN</td>\n",
       "      <td>6</td>\n",
       "      <td>362857</td>\n",
       "      <td>22</td>\n",
       "      <td>NaN</td>\n",
       "      <td>NaN</td>\n",
       "      <td>NaN</td>\n",
       "      <td>NaN</td>\n",
       "      <td>NaN</td>\n",
       "      <td>NaN</td>\n",
       "      <td>...</td>\n",
       "      <td>NaN</td>\n",
       "      <td>283993</td>\n",
       "      <td>NaN</td>\n",
       "      <td>20898</td>\n",
       "      <td>9</td>\n",
       "      <td>17912</td>\n",
       "      <td>1418</td>\n",
       "      <td>20748</td>\n",
       "      <td>2</td>\n",
       "      <td>214</td>\n",
       "    </tr>\n",
       "    <tr>\n",
       "      <th>top</th>\n",
       "      <td>NaN</td>\n",
       "      <td>failed</td>\n",
       "      <td>#NAME?</td>\n",
       "      <td>US</td>\n",
       "      <td>NaN</td>\n",
       "      <td>NaN</td>\n",
       "      <td>NaN</td>\n",
       "      <td>NaN</td>\n",
       "      <td>NaN</td>\n",
       "      <td>NaN</td>\n",
       "      <td>...</td>\n",
       "      <td>NaN</td>\n",
       "      <td>Michael</td>\n",
       "      <td>NaN</td>\n",
       "      <td>Los Angeles, CA</td>\n",
       "      <td>Town</td>\n",
       "      <td>Los Angeles</td>\n",
       "      <td>CA</td>\n",
       "      <td>Los Angeles, CA</td>\n",
       "      <td>0</td>\n",
       "      <td>US</td>\n",
       "    </tr>\n",
       "    <tr>\n",
       "      <th>freq</th>\n",
       "      <td>NaN</td>\n",
       "      <td>188239</td>\n",
       "      <td>45</td>\n",
       "      <td>278524</td>\n",
       "      <td>NaN</td>\n",
       "      <td>NaN</td>\n",
       "      <td>NaN</td>\n",
       "      <td>NaN</td>\n",
       "      <td>NaN</td>\n",
       "      <td>NaN</td>\n",
       "      <td>...</td>\n",
       "      <td>NaN</td>\n",
       "      <td>171</td>\n",
       "      <td>NaN</td>\n",
       "      <td>18596</td>\n",
       "      <td>339576</td>\n",
       "      <td>18582</td>\n",
       "      <td>51671</td>\n",
       "      <td>18596</td>\n",
       "      <td>344732</td>\n",
       "      <td>267713</td>\n",
       "    </tr>\n",
       "    <tr>\n",
       "      <th>mean</th>\n",
       "      <td>1.021121e+09</td>\n",
       "      <td>NaN</td>\n",
       "      <td>NaN</td>\n",
       "      <td>NaN</td>\n",
       "      <td>1.073638e+09</td>\n",
       "      <td>3.293112e+06</td>\n",
       "      <td>104.400380</td>\n",
       "      <td>2015-01-22 21:30:53.202521856</td>\n",
       "      <td>2015-04-12 05:39:52.305374208</td>\n",
       "      <td>2016-06-30 03:52:08.555669504</td>\n",
       "      <td>...</td>\n",
       "      <td>1.073638e+09</td>\n",
       "      <td>NaN</td>\n",
       "      <td>3.306795e+06</td>\n",
       "      <td>NaN</td>\n",
       "      <td>NaN</td>\n",
       "      <td>NaN</td>\n",
       "      <td>NaN</td>\n",
       "      <td>NaN</td>\n",
       "      <td>NaN</td>\n",
       "      <td>NaN</td>\n",
       "    </tr>\n",
       "    <tr>\n",
       "      <th>min</th>\n",
       "      <td>5.971000e+03</td>\n",
       "      <td>NaN</td>\n",
       "      <td>NaN</td>\n",
       "      <td>NaN</td>\n",
       "      <td>3.000000e+00</td>\n",
       "      <td>0.000000e+00</td>\n",
       "      <td>1.000000</td>\n",
       "      <td>2009-04-21 17:00:19</td>\n",
       "      <td>2009-05-03 06:59:59</td>\n",
       "      <td>2012-05-16 16:33:46</td>\n",
       "      <td>...</td>\n",
       "      <td>3.000000e+00</td>\n",
       "      <td>NaN</td>\n",
       "      <td>6.000000e+00</td>\n",
       "      <td>NaN</td>\n",
       "      <td>NaN</td>\n",
       "      <td>NaN</td>\n",
       "      <td>NaN</td>\n",
       "      <td>NaN</td>\n",
       "      <td>NaN</td>\n",
       "      <td>NaN</td>\n",
       "    </tr>\n",
       "    <tr>\n",
       "      <th>25%</th>\n",
       "      <td>4.806967e+08</td>\n",
       "      <td>NaN</td>\n",
       "      <td>NaN</td>\n",
       "      <td>NaN</td>\n",
       "      <td>5.371463e+08</td>\n",
       "      <td>2.355942e+06</td>\n",
       "      <td>22.000000</td>\n",
       "      <td>2013-05-22 14:43:38.249999872</td>\n",
       "      <td>2013-08-23 13:09:00</td>\n",
       "      <td>2015-10-14 12:14:33</td>\n",
       "      <td>...</td>\n",
       "      <td>5.371463e+08</td>\n",
       "      <td>NaN</td>\n",
       "      <td>2.356566e+06</td>\n",
       "      <td>NaN</td>\n",
       "      <td>NaN</td>\n",
       "      <td>NaN</td>\n",
       "      <td>NaN</td>\n",
       "      <td>NaN</td>\n",
       "      <td>NaN</td>\n",
       "      <td>NaN</td>\n",
       "    </tr>\n",
       "    <tr>\n",
       "      <th>50%</th>\n",
       "      <td>9.632384e+08</td>\n",
       "      <td>NaN</td>\n",
       "      <td>NaN</td>\n",
       "      <td>NaN</td>\n",
       "      <td>1.073133e+09</td>\n",
       "      <td>2.430714e+06</td>\n",
       "      <td>35.000000</td>\n",
       "      <td>2015-02-12 21:58:20</td>\n",
       "      <td>2015-04-27 19:35:21.500000</td>\n",
       "      <td>2016-05-19 19:43:12.500000</td>\n",
       "      <td>...</td>\n",
       "      <td>1.073133e+09</td>\n",
       "      <td>NaN</td>\n",
       "      <td>2.431969e+06</td>\n",
       "      <td>NaN</td>\n",
       "      <td>NaN</td>\n",
       "      <td>NaN</td>\n",
       "      <td>NaN</td>\n",
       "      <td>NaN</td>\n",
       "      <td>NaN</td>\n",
       "      <td>NaN</td>\n",
       "    </tr>\n",
       "    <tr>\n",
       "      <th>75%</th>\n",
       "      <td>1.606258e+09</td>\n",
       "      <td>NaN</td>\n",
       "      <td>NaN</td>\n",
       "      <td>NaN</td>\n",
       "      <td>1.610413e+09</td>\n",
       "      <td>2.475687e+06</td>\n",
       "      <td>262.000000</td>\n",
       "      <td>2016-11-10 15:10:06</td>\n",
       "      <td>2017-02-06 03:05:49.249999872</td>\n",
       "      <td>2017-05-10 04:06:18.249999872</td>\n",
       "      <td>...</td>\n",
       "      <td>1.610413e+09</td>\n",
       "      <td>NaN</td>\n",
       "      <td>2.475687e+06</td>\n",
       "      <td>NaN</td>\n",
       "      <td>NaN</td>\n",
       "      <td>NaN</td>\n",
       "      <td>NaN</td>\n",
       "      <td>NaN</td>\n",
       "      <td>NaN</td>\n",
       "      <td>NaN</td>\n",
       "    </tr>\n",
       "    <tr>\n",
       "      <th>max</th>\n",
       "      <td>2.147476e+09</td>\n",
       "      <td>NaN</td>\n",
       "      <td>NaN</td>\n",
       "      <td>NaN</td>\n",
       "      <td>2.147483e+09</td>\n",
       "      <td>1.000000e+08</td>\n",
       "      <td>389.000000</td>\n",
       "      <td>2019-01-30 07:38:14</td>\n",
       "      <td>2019-03-31 14:00:13</td>\n",
       "      <td>2019-01-31 02:20:02</td>\n",
       "      <td>...</td>\n",
       "      <td>2.147483e+09</td>\n",
       "      <td>NaN</td>\n",
       "      <td>1.000000e+08</td>\n",
       "      <td>NaN</td>\n",
       "      <td>NaN</td>\n",
       "      <td>NaN</td>\n",
       "      <td>NaN</td>\n",
       "      <td>NaN</td>\n",
       "      <td>NaN</td>\n",
       "      <td>NaN</td>\n",
       "    </tr>\n",
       "    <tr>\n",
       "      <th>std</th>\n",
       "      <td>6.226729e+08</td>\n",
       "      <td>NaN</td>\n",
       "      <td>NaN</td>\n",
       "      <td>NaN</td>\n",
       "      <td>6.198257e+08</td>\n",
       "      <td>6.576070e+06</td>\n",
       "      <td>123.820605</td>\n",
       "      <td>NaN</td>\n",
       "      <td>NaN</td>\n",
       "      <td>NaN</td>\n",
       "      <td>...</td>\n",
       "      <td>6.198257e+08</td>\n",
       "      <td>NaN</td>\n",
       "      <td>6.586283e+06</td>\n",
       "      <td>NaN</td>\n",
       "      <td>NaN</td>\n",
       "      <td>NaN</td>\n",
       "      <td>NaN</td>\n",
       "      <td>NaN</td>\n",
       "      <td>NaN</td>\n",
       "      <td>NaN</td>\n",
       "    </tr>\n",
       "  </tbody>\n",
       "</table>\n",
       "<p>11 rows × 39 columns</p>\n",
       "</div>"
      ],
      "text/plain": [
       "          project_id   state project_name country    creator_id   location_id  \\\n",
       "count   3.658920e+05  365892       365892  365892  3.658920e+05  3.658920e+05   \n",
       "unique           NaN       6       362857      22           NaN           NaN   \n",
       "top              NaN  failed       #NAME?      US           NaN           NaN   \n",
       "freq             NaN  188239           45  278524           NaN           NaN   \n",
       "mean    1.021121e+09     NaN          NaN     NaN  1.073638e+09  3.293112e+06   \n",
       "min     5.971000e+03     NaN          NaN     NaN  3.000000e+00  0.000000e+00   \n",
       "25%     4.806967e+08     NaN          NaN     NaN  5.371463e+08  2.355942e+06   \n",
       "50%     9.632384e+08     NaN          NaN     NaN  1.073133e+09  2.430714e+06   \n",
       "75%     1.606258e+09     NaN          NaN     NaN  1.610413e+09  2.475687e+06   \n",
       "max     2.147476e+09     NaN          NaN     NaN  2.147483e+09  1.000000e+08   \n",
       "std     6.226729e+08     NaN          NaN     NaN  6.198257e+08  6.576070e+06   \n",
       "\n",
       "          category_id                     created_at  \\\n",
       "count   365892.000000                         365892   \n",
       "unique            NaN                            NaN   \n",
       "top               NaN                            NaN   \n",
       "freq              NaN                            NaN   \n",
       "mean       104.400380  2015-01-22 21:30:53.202521856   \n",
       "min          1.000000            2009-04-21 17:00:19   \n",
       "25%         22.000000  2013-05-22 14:43:38.249999872   \n",
       "50%         35.000000            2015-02-12 21:58:20   \n",
       "75%        262.000000            2016-11-10 15:10:06   \n",
       "max        389.000000            2019-01-30 07:38:14   \n",
       "std        123.820605                            NaN   \n",
       "\n",
       "                             deadline                     updated_at  ...  \\\n",
       "count                          365892                         365892  ...   \n",
       "unique                            NaN                            NaN  ...   \n",
       "top                               NaN                            NaN  ...   \n",
       "freq                              NaN                            NaN  ...   \n",
       "mean    2015-04-12 05:39:52.305374208  2016-06-30 03:52:08.555669504  ...   \n",
       "min               2009-05-03 06:59:59            2012-05-16 16:33:46  ...   \n",
       "25%               2013-08-23 13:09:00            2015-10-14 12:14:33  ...   \n",
       "50%        2015-04-27 19:35:21.500000     2016-05-19 19:43:12.500000  ...   \n",
       "75%     2017-02-06 03:05:49.249999872  2017-05-10 04:06:18.249999872  ...   \n",
       "max               2019-03-31 14:00:13            2019-01-31 02:20:02  ...   \n",
       "std                               NaN                            NaN  ...   \n",
       "\n",
       "       creator_id_main creator_name location_id_main  displayable_name  \\\n",
       "count     3.658920e+05       365892     3.643780e+05            364378   \n",
       "unique             NaN       283993              NaN             20898   \n",
       "top                NaN      Michael              NaN   Los Angeles, CA   \n",
       "freq               NaN          171              NaN             18596   \n",
       "mean      1.073638e+09          NaN     3.306795e+06               NaN   \n",
       "min       3.000000e+00          NaN     6.000000e+00               NaN   \n",
       "25%       5.371463e+08          NaN     2.356566e+06               NaN   \n",
       "50%       1.073133e+09          NaN     2.431969e+06               NaN   \n",
       "75%       1.610413e+09          NaN     2.475687e+06               NaN   \n",
       "max       2.147483e+09          NaN     1.000000e+08               NaN   \n",
       "std       6.198257e+08          NaN     6.586283e+06               NaN   \n",
       "\n",
       "          type location_name location_state       short_name  is_root  \\\n",
       "count   364378        364378         364378           364378   364378   \n",
       "unique       9         17912           1418            20748        2   \n",
       "top       Town   Los Angeles             CA  Los Angeles, CA        0   \n",
       "freq    339576         18582          51671            18596   344732   \n",
       "mean       NaN           NaN            NaN              NaN      NaN   \n",
       "min        NaN           NaN            NaN              NaN      NaN   \n",
       "25%        NaN           NaN            NaN              NaN      NaN   \n",
       "50%        NaN           NaN            NaN              NaN      NaN   \n",
       "75%        NaN           NaN            NaN              NaN      NaN   \n",
       "max        NaN           NaN            NaN              NaN      NaN   \n",
       "std        NaN           NaN            NaN              NaN      NaN   \n",
       "\n",
       "        location_country  \n",
       "count             364378  \n",
       "unique               214  \n",
       "top                   US  \n",
       "freq              267713  \n",
       "mean                 NaN  \n",
       "min                  NaN  \n",
       "25%                  NaN  \n",
       "50%                  NaN  \n",
       "75%                  NaN  \n",
       "max                  NaN  \n",
       "std                  NaN  \n",
       "\n",
       "[11 rows x 39 columns]"
      ]
     },
     "execution_count": 100,
     "metadata": {},
     "output_type": "execute_result"
    }
   ],
   "source": [
    "df.describe(include='all')"
   ]
  },
  {
   "cell_type": "code",
   "execution_count": 101,
   "id": "12a0067b-1c5e-4f1a-b547-0fe30734a4b8",
   "metadata": {},
   "outputs": [
    {
     "data": {
      "text/plain": [
       "project_id                   0\n",
       "state                        0\n",
       "project_name                 0\n",
       "country                      0\n",
       "creator_id                   0\n",
       "location_id                  0\n",
       "category_id                  0\n",
       "created_at                   0\n",
       "deadline                     0\n",
       "updated_at                   0\n",
       "state_changed_at             0\n",
       "successful_at                0\n",
       "launched_at                  0\n",
       "goal                         0\n",
       "pledged                      0\n",
       "currency                     0\n",
       "currency_symbol              0\n",
       "usd_pledged                  0\n",
       "static_usd_rate              0\n",
       "backers_count                0\n",
       "spotlight                    0\n",
       "staff_pick                   0\n",
       "blurb                        0\n",
       "currency_trailing_code       0\n",
       "disable_communication        0\n",
       "category_id                  0\n",
       "category_name                0\n",
       "parent_id                    0\n",
       "position                     0\n",
       "creator_id_main              0\n",
       "creator_name                 0\n",
       "location_id_main          1514\n",
       "displayable_name          1514\n",
       "type                      1514\n",
       "location_name             1514\n",
       "location_state            1514\n",
       "short_name                1514\n",
       "is_root                   1514\n",
       "location_country          1514\n",
       "dtype: int64"
      ]
     },
     "execution_count": 101,
     "metadata": {},
     "output_type": "execute_result"
    }
   ],
   "source": [
    "df.isnull().sum()"
   ]
  },
  {
   "cell_type": "code",
   "execution_count": 102,
   "id": "428fc773-d45c-4325-aa56-1c4085db66af",
   "metadata": {},
   "outputs": [],
   "source": [
    "df['location_id_main']=df['location_id_main'].fillna(0)"
   ]
  },
  {
   "cell_type": "code",
   "execution_count": 103,
   "id": "6120bbf7-415a-4913-8dc1-10eb12bcb1ef",
   "metadata": {},
   "outputs": [
    {
     "data": {
      "text/plain": [
       "np.int64(1514)"
      ]
     },
     "execution_count": 103,
     "metadata": {},
     "output_type": "execute_result"
    }
   ],
   "source": [
    "df['displayable_name'].isnull().sum()"
   ]
  },
  {
   "cell_type": "code",
   "execution_count": 104,
   "id": "9020aa1e-ce1a-4cc7-ad93-208aebae01f3",
   "metadata": {},
   "outputs": [],
   "source": [
    "df['displayable_name']=df['displayable_name'].fillna('Unknown')"
   ]
  },
  {
   "cell_type": "code",
   "execution_count": 105,
   "id": "c35ad1cc-65e1-44a4-bc01-d5b02b40b03b",
   "metadata": {},
   "outputs": [],
   "source": [
    "df['type']=df['type'].fillna('Unknown')"
   ]
  },
  {
   "cell_type": "code",
   "execution_count": 106,
   "id": "842859e0-036f-4a4c-87fd-4df4a7ee0baa",
   "metadata": {},
   "outputs": [],
   "source": [
    "df['location_name']=df['location_name'].fillna('Unknown')"
   ]
  },
  {
   "cell_type": "code",
   "execution_count": 107,
   "id": "5f283e47-e58d-4812-9a48-2980623b7aba",
   "metadata": {},
   "outputs": [],
   "source": [
    "df['location_state']=df['location_state'].fillna('Unknown')"
   ]
  },
  {
   "cell_type": "code",
   "execution_count": 108,
   "id": "b5c78ac6-5e03-4f1e-931e-93c6666c8aa1",
   "metadata": {},
   "outputs": [],
   "source": [
    "df['short_name']=df['short_name'].fillna('Unknown')"
   ]
  },
  {
   "cell_type": "code",
   "execution_count": 109,
   "id": "8a0c7a0b-66e5-4f2a-b488-192fcc09d57f",
   "metadata": {},
   "outputs": [
    {
     "data": {
      "text/plain": [
       "is_root\n",
       "0        344732\n",
       "FALSE     19646\n",
       "Name: count, dtype: int64"
      ]
     },
     "execution_count": 109,
     "metadata": {},
     "output_type": "execute_result"
    }
   ],
   "source": [
    "df['is_root'].value_counts()"
   ]
  },
  {
   "cell_type": "code",
   "execution_count": 110,
   "id": "de374bba-fbad-42dc-bd14-535cbc7ddb4f",
   "metadata": {},
   "outputs": [
    {
     "data": {
      "text/plain": [
       "array(['0', 'FALSE', nan], dtype=object)"
      ]
     },
     "execution_count": 110,
     "metadata": {},
     "output_type": "execute_result"
    }
   ],
   "source": [
    "df['is_root'].unique()"
   ]
  },
  {
   "cell_type": "code",
   "execution_count": 111,
   "id": "fa5cc7c4-d0f8-4911-bf36-59e5fdfd4f84",
   "metadata": {},
   "outputs": [],
   "source": [
    "df['is_root'] = df['is_root'].replace({'FALSE': False, 'TRUE': True, 0: False, 1: True})"
   ]
  },
  {
   "cell_type": "code",
   "execution_count": 112,
   "id": "2bfe5732-1ade-4c11-b404-9d723be51569",
   "metadata": {},
   "outputs": [
    {
     "data": {
      "text/plain": [
       "is_root\n",
       "0        344732\n",
       "False     19646\n",
       "NaN        1514\n",
       "Name: count, dtype: int64"
      ]
     },
     "execution_count": 112,
     "metadata": {},
     "output_type": "execute_result"
    }
   ],
   "source": [
    "df['is_root'].value_counts(dropna=False)"
   ]
  },
  {
   "cell_type": "code",
   "execution_count": null,
   "id": "2e1595da-d5e8-4754-bdb0-a79fa50659c0",
   "metadata": {},
   "outputs": [],
   "source": [
    "\n",
    "\n"
   ]
  },
  {
   "cell_type": "code",
   "execution_count": 113,
   "id": "abb38a20-b97f-4b9c-b816-fab81cb3a2db",
   "metadata": {},
   "outputs": [],
   "source": [
    "df['is_root'] = df['is_root'].replace({'0': False, '1': True, 'FALSE': False, 'TRUE': True})\n"
   ]
  },
  {
   "cell_type": "code",
   "execution_count": 114,
   "id": "56b02f30-dd02-4fed-ae24-e4c7e1eb2535",
   "metadata": {},
   "outputs": [],
   "source": [
    "df['is_root'] = df['is_root'].apply(lambda x: False if x in ['0', 'FALSE', 0] else (True if x in ['1', 'TRUE', 1] else np.nan))\n"
   ]
  },
  {
   "cell_type": "code",
   "execution_count": 115,
   "id": "5c7a9702-3103-4528-b61f-1be55c1ffebe",
   "metadata": {},
   "outputs": [
    {
     "data": {
      "text/plain": [
       "is_root\n",
       "False    364378\n",
       "Name: count, dtype: int64"
      ]
     },
     "execution_count": 115,
     "metadata": {},
     "output_type": "execute_result"
    }
   ],
   "source": [
    "df['is_root'].value_counts()"
   ]
  },
  {
   "cell_type": "code",
   "execution_count": 116,
   "id": "e51b3498-734d-4d82-b92f-b865afb00849",
   "metadata": {},
   "outputs": [
    {
     "data": {
      "text/plain": [
       "project_id                   0\n",
       "state                        0\n",
       "project_name                 0\n",
       "country                      0\n",
       "creator_id                   0\n",
       "location_id                  0\n",
       "category_id                  0\n",
       "created_at                   0\n",
       "deadline                     0\n",
       "updated_at                   0\n",
       "state_changed_at             0\n",
       "successful_at                0\n",
       "launched_at                  0\n",
       "goal                         0\n",
       "pledged                      0\n",
       "currency                     0\n",
       "currency_symbol              0\n",
       "usd_pledged                  0\n",
       "static_usd_rate              0\n",
       "backers_count                0\n",
       "spotlight                    0\n",
       "staff_pick                   0\n",
       "blurb                        0\n",
       "currency_trailing_code       0\n",
       "disable_communication        0\n",
       "category_id                  0\n",
       "category_name                0\n",
       "parent_id                    0\n",
       "position                     0\n",
       "creator_id_main              0\n",
       "creator_name                 0\n",
       "location_id_main             0\n",
       "displayable_name             0\n",
       "type                         0\n",
       "location_name                0\n",
       "location_state               0\n",
       "short_name                   0\n",
       "is_root                   1514\n",
       "location_country          1514\n",
       "dtype: int64"
      ]
     },
     "execution_count": 116,
     "metadata": {},
     "output_type": "execute_result"
    }
   ],
   "source": [
    "df.isnull().sum()"
   ]
  },
  {
   "cell_type": "code",
   "execution_count": 117,
   "id": "8dfcbf89-5b8e-430b-aa63-758bb93d58df",
   "metadata": {},
   "outputs": [],
   "source": [
    "df['is_root']=df['is_root'].fillna('Unknown')"
   ]
  },
  {
   "cell_type": "code",
   "execution_count": 118,
   "id": "8d2a8316-3404-46d7-be45-957dd83286ad",
   "metadata": {},
   "outputs": [
    {
     "data": {
      "text/plain": [
       "project_id                   0\n",
       "state                        0\n",
       "project_name                 0\n",
       "country                      0\n",
       "creator_id                   0\n",
       "location_id                  0\n",
       "category_id                  0\n",
       "created_at                   0\n",
       "deadline                     0\n",
       "updated_at                   0\n",
       "state_changed_at             0\n",
       "successful_at                0\n",
       "launched_at                  0\n",
       "goal                         0\n",
       "pledged                      0\n",
       "currency                     0\n",
       "currency_symbol              0\n",
       "usd_pledged                  0\n",
       "static_usd_rate              0\n",
       "backers_count                0\n",
       "spotlight                    0\n",
       "staff_pick                   0\n",
       "blurb                        0\n",
       "currency_trailing_code       0\n",
       "disable_communication        0\n",
       "category_id                  0\n",
       "category_name                0\n",
       "parent_id                    0\n",
       "position                     0\n",
       "creator_id_main              0\n",
       "creator_name                 0\n",
       "location_id_main             0\n",
       "displayable_name             0\n",
       "type                         0\n",
       "location_name                0\n",
       "location_state               0\n",
       "short_name                   0\n",
       "is_root                      0\n",
       "location_country          1514\n",
       "dtype: int64"
      ]
     },
     "execution_count": 118,
     "metadata": {},
     "output_type": "execute_result"
    }
   ],
   "source": [
    "df.isnull().sum()"
   ]
  },
  {
   "cell_type": "code",
   "execution_count": 119,
   "id": "8c1f5e11-43d9-4fba-9f51-4da5592618a4",
   "metadata": {},
   "outputs": [],
   "source": [
    "df['location_country']=df['location_country'].fillna('Unknown')"
   ]
  },
  {
   "cell_type": "code",
   "execution_count": 120,
   "id": "1c4836dc-9e33-41de-9368-d32a1dde1d84",
   "metadata": {},
   "outputs": [
    {
     "data": {
      "text/plain": [
       "project_id                0\n",
       "state                     0\n",
       "project_name              0\n",
       "country                   0\n",
       "creator_id                0\n",
       "location_id               0\n",
       "category_id               0\n",
       "created_at                0\n",
       "deadline                  0\n",
       "updated_at                0\n",
       "state_changed_at          0\n",
       "successful_at             0\n",
       "launched_at               0\n",
       "goal                      0\n",
       "pledged                   0\n",
       "currency                  0\n",
       "currency_symbol           0\n",
       "usd_pledged               0\n",
       "static_usd_rate           0\n",
       "backers_count             0\n",
       "spotlight                 0\n",
       "staff_pick                0\n",
       "blurb                     0\n",
       "currency_trailing_code    0\n",
       "disable_communication     0\n",
       "category_id               0\n",
       "category_name             0\n",
       "parent_id                 0\n",
       "position                  0\n",
       "creator_id_main           0\n",
       "creator_name              0\n",
       "location_id_main          0\n",
       "displayable_name          0\n",
       "type                      0\n",
       "location_name             0\n",
       "location_state            0\n",
       "short_name                0\n",
       "is_root                   0\n",
       "location_country          0\n",
       "dtype: int64"
      ]
     },
     "execution_count": 120,
     "metadata": {},
     "output_type": "execute_result"
    }
   ],
   "source": [
    "df.isnull().sum()"
   ]
  },
  {
   "cell_type": "code",
   "execution_count": 121,
   "id": "e9ae022e-91ca-483d-9fc6-72dde18e0464",
   "metadata": {},
   "outputs": [
    {
     "data": {
      "text/plain": [
       "(365892, 39)"
      ]
     },
     "execution_count": 121,
     "metadata": {},
     "output_type": "execute_result"
    }
   ],
   "source": [
    "df.shape"
   ]
  },
  {
   "cell_type": "code",
   "execution_count": 122,
   "id": "6364561d-3bcc-41a7-aaad-4e886e04ff47",
   "metadata": {},
   "outputs": [
    {
     "name": "stdout",
     "output_type": "stream",
     "text": [
      "<class 'pandas.core.frame.DataFrame'>\n",
      "RangeIndex: 365892 entries, 0 to 365891\n",
      "Data columns (total 39 columns):\n",
      " #   Column                  Non-Null Count   Dtype         \n",
      "---  ------                  --------------   -----         \n",
      " 0   project_id              365892 non-null  int64         \n",
      " 1   state                   365892 non-null  object        \n",
      " 2   project_name            365892 non-null  object        \n",
      " 3   country                 365892 non-null  object        \n",
      " 4   creator_id              365892 non-null  int64         \n",
      " 5   location_id             365892 non-null  float64       \n",
      " 6   category_id             365892 non-null  int64         \n",
      " 7   created_at              365892 non-null  datetime64[ns]\n",
      " 8   deadline                365892 non-null  datetime64[ns]\n",
      " 9   updated_at              365892 non-null  datetime64[ns]\n",
      " 10  state_changed_at        365892 non-null  datetime64[ns]\n",
      " 11  successful_at           365892 non-null  object        \n",
      " 12  launched_at             365892 non-null  datetime64[ns]\n",
      " 13  goal                    365892 non-null  float64       \n",
      " 14  pledged                 365892 non-null  float64       \n",
      " 15  currency                365892 non-null  object        \n",
      " 16  currency_symbol         365892 non-null  object        \n",
      " 17  usd_pledged             365892 non-null  float64       \n",
      " 18  static_usd_rate         365892 non-null  float64       \n",
      " 19  backers_count           365892 non-null  int64         \n",
      " 20  spotlight               365892 non-null  object        \n",
      " 21  staff_pick              365892 non-null  object        \n",
      " 22  blurb                   365892 non-null  object        \n",
      " 23  currency_trailing_code  365892 non-null  object        \n",
      " 24  disable_communication   365892 non-null  object        \n",
      " 25  category_id             365892 non-null  int64         \n",
      " 26  category_name           365892 non-null  object        \n",
      " 27  parent_id               365892 non-null  float64       \n",
      " 28  position                365892 non-null  int64         \n",
      " 29  creator_id_main         365892 non-null  int64         \n",
      " 30  creator_name            365892 non-null  object        \n",
      " 31  location_id_main        365892 non-null  float64       \n",
      " 32  displayable_name        365892 non-null  object        \n",
      " 33  type                    365892 non-null  object        \n",
      " 34  location_name           365892 non-null  object        \n",
      " 35  location_state          365892 non-null  object        \n",
      " 36  short_name              365892 non-null  object        \n",
      " 37  is_root                 365892 non-null  object        \n",
      " 38  location_country        365892 non-null  object        \n",
      "dtypes: datetime64[ns](5), float64(7), int64(7), object(20)\n",
      "memory usage: 108.9+ MB\n"
     ]
    }
   ],
   "source": [
    "df.info()"
   ]
  },
  {
   "cell_type": "code",
   "execution_count": 123,
   "id": "d8a598e8-2760-4713-a5c2-d6ee90651ffa",
   "metadata": {},
   "outputs": [],
   "source": [
    "df['location_id']=df['location_id'].astype('int64')"
   ]
  },
  {
   "cell_type": "code",
   "execution_count": 124,
   "id": "56606df3-a2f2-4ae6-a2e8-41f175a87f54",
   "metadata": {},
   "outputs": [
    {
     "name": "stdout",
     "output_type": "stream",
     "text": [
      "<class 'pandas.core.frame.DataFrame'>\n",
      "RangeIndex: 365892 entries, 0 to 365891\n",
      "Data columns (total 39 columns):\n",
      " #   Column                  Non-Null Count   Dtype         \n",
      "---  ------                  --------------   -----         \n",
      " 0   project_id              365892 non-null  int64         \n",
      " 1   state                   365892 non-null  object        \n",
      " 2   project_name            365892 non-null  object        \n",
      " 3   country                 365892 non-null  object        \n",
      " 4   creator_id              365892 non-null  int64         \n",
      " 5   location_id             365892 non-null  int64         \n",
      " 6   category_id             365892 non-null  int64         \n",
      " 7   created_at              365892 non-null  datetime64[ns]\n",
      " 8   deadline                365892 non-null  datetime64[ns]\n",
      " 9   updated_at              365892 non-null  datetime64[ns]\n",
      " 10  state_changed_at        365892 non-null  datetime64[ns]\n",
      " 11  successful_at           365892 non-null  object        \n",
      " 12  launched_at             365892 non-null  datetime64[ns]\n",
      " 13  goal                    365892 non-null  float64       \n",
      " 14  pledged                 365892 non-null  float64       \n",
      " 15  currency                365892 non-null  object        \n",
      " 16  currency_symbol         365892 non-null  object        \n",
      " 17  usd_pledged             365892 non-null  float64       \n",
      " 18  static_usd_rate         365892 non-null  float64       \n",
      " 19  backers_count           365892 non-null  int64         \n",
      " 20  spotlight               365892 non-null  object        \n",
      " 21  staff_pick              365892 non-null  object        \n",
      " 22  blurb                   365892 non-null  object        \n",
      " 23  currency_trailing_code  365892 non-null  object        \n",
      " 24  disable_communication   365892 non-null  object        \n",
      " 25  category_id             365892 non-null  int64         \n",
      " 26  category_name           365892 non-null  object        \n",
      " 27  parent_id               365892 non-null  float64       \n",
      " 28  position                365892 non-null  int64         \n",
      " 29  creator_id_main         365892 non-null  int64         \n",
      " 30  creator_name            365892 non-null  object        \n",
      " 31  location_id_main        365892 non-null  float64       \n",
      " 32  displayable_name        365892 non-null  object        \n",
      " 33  type                    365892 non-null  object        \n",
      " 34  location_name           365892 non-null  object        \n",
      " 35  location_state          365892 non-null  object        \n",
      " 36  short_name              365892 non-null  object        \n",
      " 37  is_root                 365892 non-null  object        \n",
      " 38  location_country        365892 non-null  object        \n",
      "dtypes: datetime64[ns](5), float64(6), int64(8), object(20)\n",
      "memory usage: 108.9+ MB\n"
     ]
    }
   ],
   "source": [
    "df.info()"
   ]
  },
  {
   "cell_type": "code",
   "execution_count": 125,
   "id": "81b5f07c-5e74-4f35-b6ef-e2805d75c0e1",
   "metadata": {},
   "outputs": [],
   "source": [
    "df['parent_id']=df['parent_id'].astype('int64')"
   ]
  },
  {
   "cell_type": "code",
   "execution_count": 126,
   "id": "4b197d72-cab4-4021-81f2-9c9a3db0ccf9",
   "metadata": {},
   "outputs": [],
   "source": [
    "df['location_id_main']=df['location_id_main'].astype('int64')"
   ]
  },
  {
   "cell_type": "code",
   "execution_count": 127,
   "id": "b3ae3530-cf16-4ab4-9a9b-874b27b94f3a",
   "metadata": {},
   "outputs": [
    {
     "name": "stdout",
     "output_type": "stream",
     "text": [
      "<class 'pandas.core.frame.DataFrame'>\n",
      "RangeIndex: 365892 entries, 0 to 365891\n",
      "Data columns (total 39 columns):\n",
      " #   Column                  Non-Null Count   Dtype         \n",
      "---  ------                  --------------   -----         \n",
      " 0   project_id              365892 non-null  int64         \n",
      " 1   state                   365892 non-null  object        \n",
      " 2   project_name            365892 non-null  object        \n",
      " 3   country                 365892 non-null  object        \n",
      " 4   creator_id              365892 non-null  int64         \n",
      " 5   location_id             365892 non-null  int64         \n",
      " 6   category_id             365892 non-null  int64         \n",
      " 7   created_at              365892 non-null  datetime64[ns]\n",
      " 8   deadline                365892 non-null  datetime64[ns]\n",
      " 9   updated_at              365892 non-null  datetime64[ns]\n",
      " 10  state_changed_at        365892 non-null  datetime64[ns]\n",
      " 11  successful_at           365892 non-null  object        \n",
      " 12  launched_at             365892 non-null  datetime64[ns]\n",
      " 13  goal                    365892 non-null  float64       \n",
      " 14  pledged                 365892 non-null  float64       \n",
      " 15  currency                365892 non-null  object        \n",
      " 16  currency_symbol         365892 non-null  object        \n",
      " 17  usd_pledged             365892 non-null  float64       \n",
      " 18  static_usd_rate         365892 non-null  float64       \n",
      " 19  backers_count           365892 non-null  int64         \n",
      " 20  spotlight               365892 non-null  object        \n",
      " 21  staff_pick              365892 non-null  object        \n",
      " 22  blurb                   365892 non-null  object        \n",
      " 23  currency_trailing_code  365892 non-null  object        \n",
      " 24  disable_communication   365892 non-null  object        \n",
      " 25  category_id             365892 non-null  int64         \n",
      " 26  category_name           365892 non-null  object        \n",
      " 27  parent_id               365892 non-null  int64         \n",
      " 28  position                365892 non-null  int64         \n",
      " 29  creator_id_main         365892 non-null  int64         \n",
      " 30  creator_name            365892 non-null  object        \n",
      " 31  location_id_main        365892 non-null  int64         \n",
      " 32  displayable_name        365892 non-null  object        \n",
      " 33  type                    365892 non-null  object        \n",
      " 34  location_name           365892 non-null  object        \n",
      " 35  location_state          365892 non-null  object        \n",
      " 36  short_name              365892 non-null  object        \n",
      " 37  is_root                 365892 non-null  object        \n",
      " 38  location_country        365892 non-null  object        \n",
      "dtypes: datetime64[ns](5), float64(4), int64(10), object(20)\n",
      "memory usage: 108.9+ MB\n"
     ]
    }
   ],
   "source": [
    "df.info()"
   ]
  },
  {
   "cell_type": "markdown",
   "id": "3e311887-9ca0-4b13-ae9f-a880cf3a6202",
   "metadata": {},
   "source": [
    "EDA"
   ]
  },
  {
   "cell_type": "code",
   "execution_count": 128,
   "id": "4a1ec12d-724c-4065-9e80-37c060f06421",
   "metadata": {},
   "outputs": [
    {
     "data": {
      "text/plain": [
       "state\n",
       "failed        51.446602\n",
       "successful    38.348201\n",
       "canceled       8.881856\n",
       "live           0.864463\n",
       "suspended      0.410230\n",
       "purged         0.048648\n",
       "Name: proportion, dtype: float64"
      ]
     },
     "execution_count": 128,
     "metadata": {},
     "output_type": "execute_result"
    }
   ],
   "source": [
    "df['state'].value_counts(normalize=True)*100"
   ]
  },
  {
   "cell_type": "markdown",
   "id": "b346d9cf-1bd2-4dd6-ba65-d1c7c2bc4957",
   "metadata": {},
   "source": [
    "Goal vs Pledged"
   ]
  },
  {
   "cell_type": "code",
   "execution_count": 154,
   "id": "b7a06dfb-2256-42f1-afc8-e0d9691aa808",
   "metadata": {},
   "outputs": [
    {
     "data": {
      "image/png": "[encoded data removed]",
      "text/plain": [
       "<Figure size 640x480 with 1 Axes>"
      ]
     },
     "metadata": {},
     "output_type": "display_data"
    }
   ],
   "source": [
    "sns.scatterplot(x='goal',y='pledged',data=df,color='lightgreen')\n",
    "plt.xscale('log')\n",
    "plt.yscale('log')\n",
    "plt.show()"
   ]
  },
  {
   "cell_type": "markdown",
   "id": "b66702b3-2ed3-4605-8f69-d9562b99c146",
   "metadata": {},
   "source": [
    "Category Wise Performance"
   ]
  },
  {
   "cell_type": "code",
   "execution_count": 131,
   "id": "b856a3cb-7366-49bb-a433-8440defaeb6e",
   "metadata": {},
   "outputs": [
    {
     "data": {
      "text/plain": [
       "<Axes: xlabel='category_name'>"
      ]
     },
     "execution_count": 131,
     "metadata": {},
     "output_type": "execute_result"
    }
   ],
   "source": [
    "df.groupby('category_name')['state'].value_counts(normalize=True).unstack().plot(kind='bar',stacked=True)"
   ]
  },
  {
   "cell_type": "code",
   "execution_count": 132,
   "id": "39c185c3-5d70-4392-a7e4-c1e68a342220",
   "metadata": {},
   "outputs": [
    {
     "data": {
      "image/png": "[encoded data removed]",
      "text/plain": [
       "<Figure size 640x480 with 1 Axes>"
      ]
     },
     "metadata": {},
     "output_type": "display_data"
    },
    {
     "data": {
      "image/png": "[encoded data removed]",
      "text/plain": [
       "<Figure size 640x480 with 1 Axes>"
      ]
     },
     "metadata": {},
     "output_type": "display_data"
    }
   ],
   "source": [
    "df.groupby('category_name')['state'].value_counts(normalize=True).unstack().plot(kind='bar',stacked=True)\n",
    "plt.show()"
   ]
  },
  {
   "cell_type": "code",
   "execution_count": 133,
   "id": "d4584994-fcb9-475b-9d03-5d1206e7fc73",
   "metadata": {},
   "outputs": [
    {
     "data": {
      "text/plain": [
       "country\n",
       "US    3.095662e+09\n",
       "JP    5.130380e+08\n",
       "GB    1.989913e+08\n",
       "HK    1.734641e+08\n",
       "SE    1.709201e+08\n",
       "CA    1.339014e+08\n",
       "MX    7.720286e+07\n",
       "AU    6.741895e+07\n",
       "DK    6.710142e+07\n",
       "DE    4.675879e+07\n",
       "Name: pledged, dtype: float64"
      ]
     },
     "execution_count": 133,
     "metadata": {},
     "output_type": "execute_result"
    }
   ],
   "source": [
    "df.groupby('country')['pledged'].sum().sort_values(ascending=False).head(10)"
   ]
  },
  {
   "cell_type": "code",
   "execution_count": 155,
   "id": "f80f88b8-10a3-40ec-984e-df249773f884",
   "metadata": {},
   "outputs": [
    {
     "data": {
      "image/png": "[encoded data removed]",
      "text/plain": [
       "<Figure size 640x480 with 1 Axes>"
      ]
     },
     "metadata": {},
     "output_type": "display_data"
    }
   ],
   "source": [
    "df.groupby('country')['pledged'].sum().sort_values(ascending=True).head(10).plot(kind='barh',color='lightgreen')\n",
    "plt.show()"
   ]
  },
  {
   "cell_type": "code",
   "execution_count": 143,
   "id": "6adb85f9-e787-4e78-ae7e-a4487a68136b",
   "metadata": {},
   "outputs": [
    {
     "data": {
      "image/png": "[encoded data removed]",
      "text/plain": [
       "<Figure size 640x480 with 1 Axes>"
      ]
     },
     "metadata": {},
     "output_type": "display_data"
    }
   ],
   "source": [
    "df.groupby(df['launched_at'].dt.year)['pledged'].sum().plot(kind='line',marker='o',color='lightgreen')\n",
    "plt.title('Yearly Funding Trend')\n",
    "plt.show()"
   ]
  },
  {
   "cell_type": "code",
   "execution_count": 144,
   "id": "5417020f-cf0a-4619-bc39-0de7c4a7bc0a",
   "metadata": {},
   "outputs": [],
   "source": [
    "df['duration_days']=(df['deadline'] - df['launched_at']).dt.days\n",
    "\n"
   ]
  },
  {
   "cell_type": "code",
   "execution_count": 145,
   "id": "6020b7f2-c175-453b-bbf0-af30cb3068ff",
   "metadata": {},
   "outputs": [
    {
     "data": {
      "text/plain": [
       "0         30\n",
       "1         30\n",
       "2         29\n",
       "3         30\n",
       "4         10\n",
       "          ..\n",
       "365887    21\n",
       "365888    30\n",
       "365889    30\n",
       "365890    30\n",
       "365891    30\n",
       "Name: duration_days, Length: 365892, dtype: int64"
      ]
     },
     "execution_count": 145,
     "metadata": {},
     "output_type": "execute_result"
    }
   ],
   "source": [
    "df['duration_days']"
   ]
  },
  {
   "cell_type": "code",
   "execution_count": 146,
   "id": "50c1e4e7-a6ee-4770-9a65-cc56b70965b1",
   "metadata": {},
   "outputs": [],
   "source": [
    "df['success_rate']= (df['pledged'] / df['goal']).round(2)"
   ]
  },
  {
   "cell_type": "code",
   "execution_count": 147,
   "id": "6e2b768a-bd73-4785-8cb8-b93c18066d44",
   "metadata": {},
   "outputs": [
    {
     "data": {
      "text/plain": [
       "0         0.00\n",
       "1         0.00\n",
       "2         0.00\n",
       "3         0.00\n",
       "4         0.00\n",
       "          ... \n",
       "365887    4.26\n",
       "365888    1.52\n",
       "365889    1.33\n",
       "365890    2.30\n",
       "365891    1.95\n",
       "Name: success_rate, Length: 365892, dtype: float64"
      ]
     },
     "execution_count": 147,
     "metadata": {},
     "output_type": "execute_result"
    }
   ],
   "source": [
    "df['success_rate']"
   ]
  },
  {
   "cell_type": "code",
   "execution_count": 153,
   "id": "82b9bd72-f02e-4eaa-b1ec-8908ca7a1edf",
   "metadata": {},
   "outputs": [
    {
     "data": {
      "image/png": "[encoded data removed]",
      "text/plain": [
       "<Figure size 640x480 with 1 Axes>"
      ]
     },
     "metadata": {},
     "output_type": "display_data"
    }
   ],
   "source": [
    "sns.boxplot(x='state',y='duration_days',data=df,color='lightgreen')\n",
    "sns.set(style='whitegrid')\n",
    "sns.set_theme(style=\"ticks\")\n",
    "plt.show()"
   ]
  },
  {
   "cell_type": "code",
   "execution_count": 152,
   "id": "1880b4d0-d5db-43ae-8e71-10b956204abe",
   "metadata": {},
   "outputs": [
    {
     "data": {
      "image/png": "[encoded data removed]",
      "text/plain": [
       "<Figure size 640x480 with 1 Axes>"
      ]
     },
     "metadata": {},
     "output_type": "display_data"
    }
   ],
   "source": [
    "sns.boxplot(x='state',y='success_rate',data=df)\n",
    "sns.set(style='whitegrid')\n",
    "sns.set_theme(style=\"ticks\")\n",
    "plt.show()"
   ]
  },
  {
   "cell_type": "code",
   "execution_count": null,
   "id": "c39aa5c3-82f4-410c-a62f-00c563a1b045",
   "metadata": {},
   "outputs": [],
   "source": []
  },
  {
   "cell_type": "code",
   "execution_count": null,
   "id": "44daef16-08b1-4022-aedd-743173820211",
   "metadata": {},
   "outputs": [],
   "source": []
  }
 ],
 "metadata": {
  "kernelspec": {
   "display_name": "Python 3 (ipykernel)",
   "language": "python",
   "name": "python3"
  },
  "language_info": {
   "codemirror_mode": {
    "name": "ipython",
    "version": 3
   },
   "file_extension": ".py",
   "mimetype": "text/x-python",
   "name": "python",
   "nbconvert_exporter": "python",
   "pygments_lexer": "ipython3",
   "version": "3.13.5"
  }
 },
 "nbformat": 4,
 "nbformat_minor": 5
}
